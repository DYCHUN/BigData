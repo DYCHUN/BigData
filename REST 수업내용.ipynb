{
 "cells": [
  {
   "cell_type": "code",
   "execution_count": 2,
   "metadata": {
    "collapsed": true
   },
   "outputs": [],
   "source": [
    "# REST"
   ]
  },
  {
   "cell_type": "code",
   "execution_count": 6,
   "metadata": {
    "collapsed": false
   },
   "outputs": [],
   "source": [
    "import os\n",
    "KEY=\"4d4242484864617938315369514567\"\n",
    "TYPE='json'\n",
    "SERVICE='SearchSTNBySubwayLineService'\n",
    "START_INDEX='1'\n",
    "END_INDEX='10'\n",
    "LINE_NUM='2'\n",
    "#params=os.path.join(KEY,TYPE,SERVICE,START_INDEX,END_INDEX,LINE_NUM)"
   ]
  },
  {
   "cell_type": "code",
   "execution_count": 25,
   "metadata": {
    "collapsed": true
   },
   "outputs": [],
   "source": [
    "url=\"http://openapi.seoul.go.kr:8088/\"\n",
    "url+=KEY\n",
    "url+='/'\n",
    "url+=TYPE\n",
    "url+='/'\n",
    "url+=SERVICE\n",
    "url+='/'\n",
    "url+=START_INDEX\n",
    "url+='/'\n",
    "url+=END_INDEX\n",
    "url+='/'\n",
    "url+=LINE_NUM"
   ]
  },
  {
   "cell_type": "code",
   "execution_count": 26,
   "metadata": {
    "collapsed": false
   },
   "outputs": [
    {
     "name": "stdout",
     "output_type": "stream",
     "text": [
      "http://openapi.seoul.go.kr:8088/4d4242484864617938315369514567/json/SearchSTNBySubwayLineService/1/10/2\n"
     ]
    }
   ],
   "source": [
    "print url"
   ]
  },
  {
   "cell_type": "code",
   "execution_count": 7,
   "metadata": {
    "collapsed": false
   },
   "outputs": [
    {
     "name": "stdout",
     "output_type": "stream",
     "text": [
      "4d4242484864617938315369514567\\json\\SearchSTNBySubwayLineService\\1\\10\\2\n"
     ]
    }
   ],
   "source": [
    "print params"
   ]
  },
  {
   "cell_type": "raw",
   "metadata": {},
   "source": [
    "\"/xml/SearchSTNBySubwayLineService/1/5/1/\""
   ]
  },
  {
   "cell_type": "code",
   "execution_count": 10,
   "metadata": {
    "collapsed": false,
    "scrolled": false
   },
   "outputs": [
    {
     "name": "stdout",
     "output_type": "stream",
     "text": [
      "http://openapi.seoul.go.kr:8088/4d4242484864617938315369514567\\json\\SearchSTNBySubwayLineService\\1\\10\\2\n"
     ]
    }
   ],
   "source": [
    "import urlparse\n",
    "_url='http://openapi.seoul.go.kr:8088/'\n",
    "url=urlparse.urljoin(_url,params)\n",
    "print url"
   ]
  },
  {
   "cell_type": "code",
   "execution_count": 17,
   "metadata": {
    "collapsed": true
   },
   "outputs": [],
   "source": [
    "myurl='http://openapi.seoul.go.kr:8088/4d4242484864617938315369514567/xml/SearchSTNBySubwayLineService/1/5/1/'"
   ]
  },
  {
   "cell_type": "code",
   "execution_count": 18,
   "metadata": {
    "collapsed": false
   },
   "outputs": [],
   "source": [
    "import requests\n",
    "data=requests.get(myurl)"
   ]
  },
  {
   "cell_type": "code",
   "execution_count": 27,
   "metadata": {
    "collapsed": false,
    "scrolled": true
   },
   "outputs": [
    {
     "name": "stdout",
     "output_type": "stream",
     "text": [
      "<?xml version=\"1.0\" encoding=\"UTF-8\"?><SearchSTNBySubwayLineService>\n",
      "<list_total_count>101</list_total_count>\n",
      "<RESULT>\n",
      "<CODE>INFO-000</CODE>\n",
      "<MESSAGE>정상 처리되었습니다</MESSAGE>\n",
      "</RESULT>\n",
      "<row>\n",
      "<STATION_CD>1916</STATION_CD>\n",
      "<STATION_NM>소요산</STATION_NM>\n",
      "<LINE_NUM>1</LINE_NUM>\n",
      "<FR_CODE>100</FR_CODE>\n",
      "</row>\n",
      "<row>\n",
      "<STATION_CD>1915</STATION_CD>\n",
      "<STATION_NM>동두천</STATION_NM>\n",
      "<LINE_NUM>1</LINE_NUM>\n",
      "<FR_CODE>101</FR_CODE>\n",
      "</row>\n",
      "<row>\n",
      "<STATION_CD>1914</STATION_CD>\n",
      "<STATION_NM>보산</STATION_NM>\n",
      "<LINE_NUM>1</LINE_NUM>\n",
      "<FR_CODE>102</FR_CODE>\n",
      "</row>\n",
      "<row>\n",
      "<STATION_CD>1913</STATION_CD>\n",
      "<STATION_NM>동두천중앙</STATION_NM>\n",
      "<LINE_NUM>1</LINE_NUM>\n",
      "<FR_CODE>103</FR_CODE>\n",
      "</row>\n",
      "<row>\n",
      "<STATION_CD>1912</STATION_CD>\n",
      "<STATION_NM>지행</STATION_NM>\n",
      "<LINE_NUM>1</LINE_NUM>\n",
      "<FR_CODE>104</FR_CODE>\n",
      "</row>\n",
      "</SearchSTNBySubwayLineService>\n",
      "\n"
     ]
    }
   ],
   "source": [
    "print data.text"
   ]
  },
  {
   "cell_type": "code",
   "execution_count": 30,
   "metadata": {
    "collapsed": false
   },
   "outputs": [],
   "source": [
    "r=requests.get(\"http://httpbin.org/get\")"
   ]
  },
  {
   "cell_type": "code",
   "execution_count": 32,
   "metadata": {
    "collapsed": false
   },
   "outputs": [
    {
     "data": {
      "text/plain": [
       "200"
      ]
     },
     "execution_count": 32,
     "metadata": {},
     "output_type": "execute_result"
    }
   ],
   "source": [
    "r.status_code"
   ]
  },
  {
   "cell_type": "code",
   "execution_count": 34,
   "metadata": {
    "collapsed": true
   },
   "outputs": [],
   "source": [
    "r=requests.get('http://httpbin.org/status/404')"
   ]
  },
  {
   "cell_type": "code",
   "execution_count": 36,
   "metadata": {
    "collapsed": false
   },
   "outputs": [
    {
     "data": {
      "text/plain": [
       "404"
      ]
     },
     "execution_count": 36,
     "metadata": {},
     "output_type": "execute_result"
    }
   ],
   "source": [
    "r.status_code"
   ]
  },
  {
   "cell_type": "code",
   "execution_count": 39,
   "metadata": {
    "collapsed": false
   },
   "outputs": [
    {
     "data": {
      "text/plain": [
       "{'Content-Length': '0', 'Server': 'nginx', 'Connection': 'keep-alive', 'Access-Control-Allow-Credentials': 'true', 'Date': 'Wed, 12 Oct 2016 08:38:52 GMT', 'Access-Control-Allow-Origin': '*', 'Content-Type': 'text/html; charset=utf-8'}"
      ]
     },
     "execution_count": 39,
     "metadata": {},
     "output_type": "execute_result"
    }
   ],
   "source": [
    "r.headers"
   ]
  },
  {
   "cell_type": "code",
   "execution_count": 42,
   "metadata": {
    "collapsed": false
   },
   "outputs": [
    {
     "name": "stdout",
     "output_type": "stream",
     "text": [
      "{\n",
      "  \"args\": {}, \n",
      "  \"headers\": {\n",
      "    \"Accept\": \"*/*\", \n",
      "    \"Host\": \"httpbin.org\", \n",
      "    \"User-Agent\": \"curl/7.49.0\"\n",
      "  }, \n",
      "  \"origin\": \"203.237.172.100\", \n",
      "  \"url\": \"http://httpbin.org/get\"\n",
      "}\n"
     ]
    },
    {
     "name": "stderr",
     "output_type": "stream",
     "text": [
      "  % Total    % Received % Xferd  Average Speed   Time    Time     Time  Current\n",
      "                                 Dload  Upload   Total   Spent    Left  Speed\n",
      "\n",
      "  0     0    0     0    0     0      0      0 --:--:-- --:--:-- --:--:--     0\n",
      "  0     0    0     0    0     0      0      0 --:--:-- --:--:-- --:--:--     0\n",
      "100   188  100   188    0     0    333      0 --:--:-- --:--:-- --:--:--   333\n"
     ]
    }
   ],
   "source": [
    "!curl http://httpbin.org/get"
   ]
  },
  {
   "cell_type": "code",
   "execution_count": 45,
   "metadata": {
    "collapsed": true
   },
   "outputs": [],
   "source": [
    "## 한글"
   ]
  },
  {
   "cell_type": "code",
   "execution_count": 49,
   "metadata": {
    "collapsed": false
   },
   "outputs": [],
   "source": [
    "r=requests.get(\"http://httpbin.org/encoding/utf8\")"
   ]
  },
  {
   "cell_type": "code",
   "execution_count": 63,
   "metadata": {
    "collapsed": false
   },
   "outputs": [],
   "source": [
    "teststr=r.text[:500]"
   ]
  },
  {
   "cell_type": "code",
   "execution_count": 54,
   "metadata": {
    "collapsed": false
   },
   "outputs": [
    {
     "name": "stdout",
     "output_type": "stream",
     "text": [
      "\\u203e\n"
     ]
    }
   ],
   "source": [
    "print '\\u203e'"
   ]
  },
  {
   "cell_type": "code",
   "execution_count": 56,
   "metadata": {
    "collapsed": true
   },
   "outputs": [],
   "source": [
    "import locale"
   ]
  },
  {
   "cell_type": "code",
   "execution_count": 61,
   "metadata": {
    "collapsed": false
   },
   "outputs": [
    {
     "data": {
      "text/plain": [
       "('ko_KR', 'cp949')"
      ]
     },
     "execution_count": 61,
     "metadata": {},
     "output_type": "execute_result"
    }
   ],
   "source": [
    "locale.getdefaultlocale()"
   ]
  },
  {
   "cell_type": "code",
   "execution_count": 64,
   "metadata": {
    "collapsed": false
   },
   "outputs": [
    {
     "name": "stdout",
     "output_type": "stream",
     "text": [
      "<h1>Unicode Demo</h1>\n",
      "\n",
      "<p>Taken from <a\n",
      "href=\"http://www.cl.cam.ac.uk/~mgk25/ucs/examples/UTF-8-demo.txt\">http://www.cl.cam.ac.uk/~mgk25/ucs/examples/UTF-8-demo.txt</a></p>\n",
      "\n",
      "<pre>\n",
      "\n",
      "UTF-8 encoded sample plain-text file\n",
      "‾‾‾‾‾‾‾‾‾‾‾‾‾‾‾‾‾‾‾‾‾‾‾‾‾‾‾‾‾‾‾‾‾‾‾‾\n",
      "\n",
      "Markus Kuhn [ˈmaʳkʊs kuːn] <http://www.cl.cam.ac.uk/~mgk25/> — 2002-07-25\n",
      "\n",
      "\n",
      "The ASCII compatible UTF-8 encoding used in this plain-text file\n",
      "is defined in Unicode, ISO 10646-1, and RFC 2279.\n",
      "\n",
      "\n",
      "Using Unicode/UTF-8, you can write in emails and so\n"
     ]
    }
   ],
   "source": [
    "print teststr"
   ]
  }
 ],
 "metadata": {
  "anaconda-cloud": {},
  "kernelspec": {
   "display_name": "Python [conda root]",
   "language": "python",
   "name": "conda-root-py"
  },
  "language_info": {
   "codemirror_mode": {
    "name": "ipython",
    "version": 2
   },
   "file_extension": ".py",
   "mimetype": "text/x-python",
   "name": "python",
   "nbconvert_exporter": "python",
   "pygments_lexer": "ipython2",
   "version": "2.7.12"
  }
 },
 "nbformat": 4,
 "nbformat_minor": 1
}
