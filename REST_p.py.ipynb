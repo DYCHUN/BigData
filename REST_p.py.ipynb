{
 "cells": [
  {
   "cell_type": "markdown",
   "metadata": {},
   "source": [
    "# REST-1 ip주소에서 지역정보 알아내기"
   ]
  },
  {
   "cell_type": "code",
   "execution_count": 1,
   "metadata": {
    "collapsed": false
   },
   "outputs": [
    {
     "name": "stdout",
     "output_type": "stream",
     "text": [
      "KR\n"
     ]
    }
   ],
   "source": [
    "import json\n",
    "import urllib\n",
    "\n",
    "def getCountry(ipAddress):\n",
    "    response = urllib.urlopen(\"http://freegeoip.net/json/\"+ipAddress).read().decode('utf-8')\n",
    "    responseJson = json.loads(response)\n",
    "    return responseJson.get(\"country_code\")\n",
    "\n",
    "print(getCountry(\"39.118.87.152\"))"
   ]
  },
  {
   "cell_type": "code",
   "execution_count": 2,
   "metadata": {
    "collapsed": false
   },
   "outputs": [],
   "source": [
    "import requests\n",
    "send_url = 'http://freegeoip.net/json/39.118.87.152'\n",
    "r = requests.get(send_url)"
   ]
  },
  {
   "cell_type": "code",
   "execution_count": 3,
   "metadata": {
    "collapsed": true
   },
   "outputs": [],
   "source": [
    "j=json.loads(r.text)"
   ]
  },
  {
   "cell_type": "code",
   "execution_count": 4,
   "metadata": {
    "collapsed": false
   },
   "outputs": [
    {
     "name": "stdout",
     "output_type": "stream",
     "text": [
      "[u'city', u'region_code', u'region_name', u'ip', u'time_zone', u'longitude', u'metro_code', u'latitude', u'country_code', u'country_name', u'zip_code']\n",
      "Seoul\n"
     ]
    }
   ],
   "source": [
    "type(j)\n",
    "print j.keys()\n",
    "print j['city']"
   ]
  },
  {
   "cell_type": "code",
   "execution_count": 5,
   "metadata": {
    "collapsed": false
   },
   "outputs": [
    {
     "name": "stdout",
     "output_type": "stream",
     "text": [
      "city \t:  Seoul\n",
      "region_code \t:  11\n",
      "region_name \t:  Seoul\n",
      "ip \t:  39.118.87.152\n",
      "time_zone \t:  Asia/Seoul\n",
      "longitude \t:  126.9743\n",
      "metro_code \t:  0\n",
      "latitude \t:  37.5111\n",
      "country_code \t:  KR\n",
      "country_name \t:  Republic of Korea\n",
      "zip_code \t:  \n"
     ]
    }
   ],
   "source": [
    "for k,v in j.iteritems():\n",
    "    print k,\"\\t: \",v"
   ]
  },
  {
   "cell_type": "markdown",
   "metadata": {},
   "source": [
    "# REST-2 키를 저장하고 읽기"
   ]
  },
  {
   "cell_type": "code",
   "execution_count": 6,
   "metadata": {
    "collapsed": true
   },
   "outputs": [],
   "source": [
    "def getKey(keyPath):\n",
    "    d=dict()\n",
    "    f=open(keyPath,'r')\n",
    "    for line in f.readlines():\n",
    "        row=line.split('=')\n",
    "        row0=row[0]\n",
    "        d[row0]=row[1].strip()\n",
    "    return d"
   ]
  },
  {
   "cell_type": "code",
   "execution_count": 7,
   "metadata": {
    "collapsed": true
   },
   "outputs": [],
   "source": [
    "import os\n",
    "\n",
    "keyPath=os.path.join(os.getcwd(), 'src', 'key.properties')\n",
    "key=getKey(keyPath)"
   ]
  },
  {
   "cell_type": "code",
   "execution_count": 8,
   "metadata": {
    "collapsed": false
   },
   "outputs": [
    {
     "name": "stdout",
     "output_type": "stream",
     "text": [
      "{'dataseoul': '4d4242484864617938315369514567', 'gokr': 'lbJPWb7U14QILqLdfz6sDx9MOQA9qogxZ0x5BjiNCpH5wd5qMQtyW%2Bn1EmzsI1c9tzS7edrRiHAKZeVxTPAwFQ%3D%3D'}\n"
     ]
    }
   ],
   "source": [
    "print key"
   ]
  },
  {
   "cell_type": "markdown",
   "metadata": {},
   "source": [
    "# REST-3 서울시 1호선 지하철역 목록 구하기"
   ]
  },
  {
   "cell_type": "code",
   "execution_count": 11,
   "metadata": {
    "collapsed": false
   },
   "outputs": [
    {
     "name": "stdout",
     "output_type": "stream",
     "text": [
      "xml\\SearchSTNBySubwayLineService\\1\\10\\2\n"
     ]
    }
   ],
   "source": [
    "KEY=str(key['dataseoul'])\n",
    "TYPE='xml'\n",
    "SERVICE='SearchSTNBySubwayLineService'\n",
    "START_INDEX=str(1)\n",
    "END_INDEX=str(10)\n",
    "LINE_NUM=str(2)\n",
    "\n",
    "params=os.path.join(KEY,TYPE,SERVICE,START_INDEX,END_INDEX,LINE_NUM)\n",
    "print params[31:]"
   ]
  },
  {
   "cell_type": "code",
   "execution_count": 12,
   "metadata": {
    "collapsed": false
   },
   "outputs": [
    {
     "name": "stdout",
     "output_type": "stream",
     "text": [
      "http://openAPI.seoul.go.kr:8088/4d4242484864617938315369514567\\xml\\SearchSTNBySubwayLineService\\1\\10\\2\n"
     ]
    }
   ],
   "source": [
    "import urlparse\n",
    "_url='http://openAPI.seoul.go.kr:8088/'\n",
    "url=urlparse.urljoin(_url,params)\n",
    "\n",
    "print url"
   ]
  },
  {
   "cell_type": "code",
   "execution_count": 13,
   "metadata": {
    "collapsed": false
   },
   "outputs": [],
   "source": [
    "myurl='http://openapi.seoul.go.kr:8088/4d4242484864617938315369514567/xml/SearchSTNBySubwayLineService/1/20/1/'\n",
    "import requests\n",
    "data=requests.get(myurl)"
   ]
  },
  {
   "cell_type": "code",
   "execution_count": 14,
   "metadata": {
    "collapsed": false
   },
   "outputs": [
    {
     "name": "stdout",
     "output_type": "stream",
     "text": [
      "소요산\n",
      "동두천\n",
      "보산\n",
      "동두천중앙\n",
      "지행\n",
      "덕정\n",
      "덕계\n",
      "양주\n",
      "녹양\n",
      "가능\n",
      "의정부\n",
      "회룡\n",
      "망월사\n",
      "도봉산\n",
      "도봉\n",
      "방학\n",
      "창동\n",
      "녹천\n",
      "월계\n",
      "광운대\n"
     ]
    }
   ],
   "source": [
    "import re\n",
    "p=re.compile('<STATION_NM>(.+?)</STATION_NM>')\n",
    "res=p.findall(data.text)\n",
    "for item in res:\n",
    "    print item"
   ]
  },
  {
   "cell_type": "markdown",
   "metadata": {},
   "source": [
    "# REST-4 서울시 외국인 주민 자녀 국적취득 년도별 시군구 합계 구하기"
   ]
  },
  {
   "cell_type": "code",
   "execution_count": 15,
   "metadata": {
    "collapsed": false,
    "scrolled": true
   },
   "outputs": [
    {
     "name": "stdout",
     "output_type": "stream",
     "text": [
      "xml\\ListLocaldata470401S\\1\\5\n"
     ]
    }
   ],
   "source": [
    "KEY=str(key['dataseoul'])\n",
    "TYPE='xml'\n",
    "SERVICE='ListLocaldata470401S'\n",
    "START_INDEX=str(1)\n",
    "END_INDEX=str(5)\n",
    "\n",
    "params=os.path.join(KEY,TYPE,SERVICE,START_INDEX,END_INDEX)\n",
    "\n",
    "print params[31:]"
   ]
  },
  {
   "cell_type": "code",
   "execution_count": 16,
   "metadata": {
    "collapsed": false
   },
   "outputs": [
    {
     "name": "stdout",
     "output_type": "stream",
     "text": [
      "http://openapi.seoul.go.kr:8088/4d4242484864617938315369514567\\xml\\ListLocaldata470401S\\1\\5\n"
     ]
    }
   ],
   "source": [
    "import urlparse\n",
    "_url='http://openapi.seoul.go.kr:8088'\n",
    "url=urlparse.urljoin(_url,params)\n",
    "\n",
    "print url"
   ]
  },
  {
   "cell_type": "code",
   "execution_count": 17,
   "metadata": {
    "collapsed": false
   },
   "outputs": [
    {
     "name": "stdout",
     "output_type": "stream",
     "text": [
      "<?xml version=\"1.0\" encoding=\"UTF-8\"?><ListLocaldata470401S>\n",
      "<list_total_count>319</list_total_count>\n",
      "<RESULT>\n",
      "<CODE>INFO-000</CODE>\n",
      "<MESSAGE>정상 처리되었습니다</MESSAGE>\n",
      "</RESULT>\n",
      "<row>\n",
      "<SITUYM>2013</SITUYM>\n",
      "<CGGNM>서울특별시 종로구</CGGNM>\n",
      "<KDDETAILSENM>국적취득한 자녀 만 18세 이하</KDDETAILSENM>\n",
      "<STATMAN>462</STATMAN>\n",
      "</row>\n",
      "<row>\n",
      "<SITUYM>2014</SITUYM>\n",
      "<CGGNM>서울특별시 종로구</CGGNM>\n",
      "<KDDETAILSENM>국적취득한 자녀 만 18세 이하</KDDETAILSENM>\n",
      "<STATMAN>468</STATMAN>\n",
      "</row>\n",
      "<row>\n",
      "<SITUYM>2013</SITUYM>\n",
      "<CGGNM>서울특별시 중구</CGGNM>\n",
      "<KDDETAILSENM>국적취득한 자녀 만 19세 이상</KDDETAILSENM>\n",
      "<STATMAN>232</STATMAN>\n",
      "</row>\n",
      "<row>\n",
      "<SITUYM>2013</SITUYM>\n",
      "<CGGNM>서울특별시 광진구</CGGNM>\n",
      "<KDDETAILSENM>국적취득한 자녀 만 18세 이하</KDDETAILSENM>\n",
      "<STATMAN>1275</STATMAN>\n",
      "</row>\n",
      "<row>\n",
      "<SITUYM>2014</SITUYM>\n",
      "<CGGNM>서울특별시 광진구</CGGNM>\n",
      "<KDDETAILSENM>국적취득한 자녀 만 19세 이상</KDDETAILSENM>\n",
      "<STATMAN>536</STATMAN>\n",
      "</row>\n",
      "</ListLocaldata470401S>\n",
      "\n"
     ]
    }
   ],
   "source": [
    "myurl='http://openapi.seoul.go.kr:8088/4d4242484864617938315369514567/xml/ListLocaldata470401S/1/5'\n",
    "import requests\n",
    "data=requests.get(myurl).text\n",
    "print data"
   ]
  },
  {
   "cell_type": "code",
   "execution_count": 18,
   "metadata": {
    "collapsed": false
   },
   "outputs": [
    {
     "name": "stdout",
     "output_type": "stream",
     "text": [
      "<type 'str'>\n"
     ]
    }
   ],
   "source": [
    "print type(data.encode('utf-8'))"
   ]
  },
  {
   "cell_type": "code",
   "execution_count": 19,
   "metadata": {
    "collapsed": false,
    "scrolled": true
   },
   "outputs": [
    {
     "name": "stdout",
     "output_type": "stream",
     "text": [
      "462\n",
      "468\n",
      "232\n",
      "1275\n",
      "536\n"
     ]
    }
   ],
   "source": [
    "import lxml\n",
    "import lxml.etree\n",
    "import StringIO\n",
    "\n",
    "tree=lxml.etree.fromstring(data.encode('utf-8'))\n",
    "\n",
    "nodes=tree.xpath('//STATMAN')\n",
    "for node in nodes:\n",
    "    print node.text"
   ]
  },
  {
   "cell_type": "markdown",
   "metadata": {},
   "source": [
    "# REST-5 2015년 서울시 지하철역별 월별 승하차인원 구하기"
   ]
  },
  {
   "cell_type": "code",
   "execution_count": 29,
   "metadata": {
    "collapsed": false
   },
   "outputs": [
    {
     "name": "stdout",
     "output_type": "stream",
     "text": [
      "xml\\CardSubwayStatisticsService\\1\\5\\201306\n"
     ]
    }
   ],
   "source": [
    "KEY=str(key['dataseoul'])\n",
    "TYPE='xml'\n",
    "SERVICE='CardSubwayStatisticsService'\n",
    "START_INDEX=str(1)\n",
    "END_INDEX=str(5)\n",
    "USE_MON='201306'\n",
    "\n",
    "params=os.path.join(KEY,TYPE,SERVICE,START_INDEX,END_INDEX,USE_MON)\n",
    "\n",
    "print params[31:]"
   ]
  },
  {
   "cell_type": "code",
   "execution_count": 30,
   "metadata": {
    "collapsed": false
   },
   "outputs": [
    {
     "name": "stdout",
     "output_type": "stream",
     "text": [
      "http://openApi.seoul.go.kr:8088/4d4242484864617938315369514567\\xml\\CardSubwayStatisticsService\\1\\5\\201306\n"
     ]
    }
   ],
   "source": [
    "import urlparse\n",
    "_url='http://openApi.seoul.go.kr:8088'\n",
    "url=urlparse.urljoin(_url,params)\n",
    "\n",
    "print url"
   ]
  },
  {
   "cell_type": "code",
   "execution_count": 22,
   "metadata": {
    "collapsed": false
   },
   "outputs": [
    {
     "name": "stdout",
     "output_type": "stream",
     "text": [
      "<?xml version=\"1.0\" encoding=\"UTF-8\"?><RESULT>\n",
      "<CODE>ERROR-500</CODE>\n",
      "<MESSAGE>서버 오류입니다.\\n지속적으로 발생시 열린 데이터 광장으로 문의(Q&amp;A) 바랍니다.</MESSAGE>\n",
      "</RESULT>\n",
      "\n"
     ]
    }
   ],
   "source": [
    "myurl='http://openAPI.seoul.go.kr:8088/4d4242484864617938315369514567/xml/CardSubwayStatisticsServie/1/5/201306'\n",
    "import requests\n",
    "data=requests.get(myurl).text\n",
    "print data"
   ]
  },
  {
   "cell_type": "markdown",
   "metadata": {},
   "source": [
    "# REST-6 2013년 1년 동안 지하철역 승하차 인원"
   ]
  },
  {
   "cell_type": "code",
   "execution_count": 32,
   "metadata": {
    "collapsed": false
   },
   "outputs": [
    {
     "name": "stdout",
     "output_type": "stream",
     "text": [
      "xml\\CardSubwayStatisticsService\\1\\5\\201306\n"
     ]
    }
   ],
   "source": [
    "KEY=str(key['dataseoul'])\n",
    "TYPE='xml'\n",
    "SERVICE='CardSubwayStatisticsService'\n",
    "START_INDEX=str(1)\n",
    "END_INDEX=str(5)\n",
    "USE_MON='201306'\n",
    "\n",
    "params=os.path.join(KEY,TYPE,SERVICE,START_INDEX,END_INDEX,USE_MON)\n",
    "\n",
    "print params[31:]"
   ]
  },
  {
   "cell_type": "code",
   "execution_count": 33,
   "metadata": {
    "collapsed": false
   },
   "outputs": [
    {
     "name": "stdout",
     "output_type": "stream",
     "text": [
      "http://openApi.seoul.go.kr:8088/4d4242484864617938315369514567\\xml\\CardSubwayStatisticsService\\1\\5\\201306\n"
     ]
    }
   ],
   "source": [
    "import urlparse\n",
    "_url='http://openApi.seoul.go.kr:8088'\n",
    "url=urlparse.urljoin(_url,params)\n",
    "\n",
    "print url"
   ]
  },
  {
   "cell_type": "code",
   "execution_count": 36,
   "metadata": {
    "collapsed": false
   },
   "outputs": [
    {
     "name": "stdout",
     "output_type": "stream",
     "text": [
      "<?xml version=\"1.0\" encoding=\"UTF-8\"?><CardSubwayStatisticsService>\n",
      "<list_total_count>530</list_total_count>\n",
      "<RESULT>\n",
      "<CODE>INFO-000</CODE>\n",
      "<MESSAGE>정상 처리되었습니다</MESSAGE>\n",
      "</RESULT>\n",
      "<row>\n",
      "<USE_MON>201306</USE_MON>\n",
      "<LINE_NUM>중앙선</LINE_NUM>\n",
      "<SUB_STA_NM>용문</SUB_STA_NM>\n",
      "<RIDE_PASGR_NUM>111275</RIDE_PASGR_NUM>\n",
      "<ALIGHT_PASGR_NUM>108878</ALIGHT_PASGR_NUM>\n",
      "<WORK_DT>20130723</WORK_DT>\n",
      "<COMMT/>\n",
      "</row>\n",
      "<row>\n",
      "<USE_MON>201306</USE_MON>\n",
      "<LINE_NUM>중앙선</LINE_NUM>\n",
      "<SUB_STA_NM>원덕</SUB_STA_NM>\n",
      "<RIDE_PASGR_NUM>11495</RIDE_PASGR_NUM>\n",
      "<ALIGHT_PASGR_NUM>10964</ALIGHT_PASGR_NUM>\n",
      "<WORK_DT>20130723</WORK_DT>\n",
      "<COMMT/>\n",
      "</row>\n",
      "<row>\n",
      "<USE_MON>201306</USE_MON>\n",
      "<LINE_NUM>중앙선</LINE_NUM>\n",
      "<SUB_STA_NM>양평</SUB_STA_NM>\n",
      "<RIDE_PASGR_NUM>118103</RIDE_PASGR_NUM>\n",
      "<ALIGHT_PASGR_NUM>116604</ALIGHT_PASGR_NUM>\n",
      "<WORK_DT>20130723</WORK_DT>\n",
      "<COMMT/>\n",
      "</row>\n",
      "<row>\n",
      "<USE_MON>201306</USE_MON>\n",
      "<LINE_NUM>중앙선</LINE_NUM>\n",
      "<SUB_STA_NM>오빈</SUB_STA_NM>\n",
      "<RIDE_PASGR_NUM>10590</RIDE_PASGR_NUM>\n",
      "<ALIGHT_PASGR_NUM>10020</ALIGHT_PASGR_NUM>\n",
      "<WORK_DT>20130723</WORK_DT>\n",
      "<COMMT/>\n",
      "</row>\n",
      "<row>\n",
      "<USE_MON>201306</USE_MON>\n",
      "<LINE_NUM>중앙선</LINE_NUM>\n",
      "<SUB_STA_NM>아신</SUB_STA_NM>\n",
      "<RIDE_PASGR_NUM>26304</RIDE_PASGR_NUM>\n",
      "<ALIGHT_PASGR_NUM>26358</ALIGHT_PASGR_NUM>\n",
      "<WORK_DT>20130723</WORK_DT>\n",
      "<COMMT/>\n",
      "</row>\n",
      "</CardSubwayStatisticsService>\n",
      "\n"
     ]
    }
   ],
   "source": [
    "myurl='http://openApi.seoul.go.kr:8088/4d4242484864617938315369514567/xml/CardSubwayStatisticsService/1/5/201306'\n",
    "data=requests.get(myurl).text\n",
    "print data"
   ]
  }
 ],
 "metadata": {
  "anaconda-cloud": {},
  "kernelspec": {
   "display_name": "Python [conda root]",
   "language": "python",
   "name": "conda-root-py"
  },
  "language_info": {
   "codemirror_mode": {
    "name": "ipython",
    "version": 2
   },
   "file_extension": ".py",
   "mimetype": "text/x-python",
   "name": "python",
   "nbconvert_exporter": "python",
   "pygments_lexer": "ipython2",
   "version": "2.7.12"
  }
 },
 "nbformat": 4,
 "nbformat_minor": 1
}
