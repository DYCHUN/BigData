{
 "cells": [
  {
   "cell_type": "markdown",
   "metadata": {},
   "source": [
    "## Mongo DB"
   ]
  },
  {
   "cell_type": "code",
   "execution_count": 6,
   "metadata": {
    "collapsed": true
   },
   "outputs": [],
   "source": [
    "import pymongo"
   ]
  },
  {
   "cell_type": "code",
   "execution_count": 7,
   "metadata": {
    "collapsed": true
   },
   "outputs": [],
   "source": [
    "from pymongo import MongoClient"
   ]
  },
  {
   "cell_type": "code",
   "execution_count": 8,
   "metadata": {
    "collapsed": true
   },
   "outputs": [],
   "source": [
    "client=MongoClient('localhost:27017')"
   ]
  },
  {
   "cell_type": "code",
   "execution_count": 9,
   "metadata": {
    "collapsed": true
   },
   "outputs": [],
   "source": [
    "db=client.Employees"
   ]
  },
  {
   "cell_type": "code",
   "execution_count": 11,
   "metadata": {
    "collapsed": false
   },
   "outputs": [
    {
     "name": "stderr",
     "output_type": "stream",
     "text": [
      "C:\\Users\\da_yo\\Anaconda2\\lib\\site-packages\\ipykernel\\__main__.py:2: DeprecationWarning: insert is deprecated. Use insert_one or insert_many instead.\n",
      "  from ipykernel import kernelapp as app\n"
     ]
    },
    {
     "ename": "ServerSelectionTimeoutError",
     "evalue": "localhost:27017: [Errno 10061] ",
     "output_type": "error",
     "traceback": [
      "\u001b[0;31m---------------------------------------------------------------------------\u001b[0m",
      "\u001b[0;31mServerSelectionTimeoutError\u001b[0m               Traceback (most recent call last)",
      "\u001b[0;32m<ipython-input-11-b8737ec82548>\u001b[0m in \u001b[0;36m<module>\u001b[0;34m()\u001b[0m\n\u001b[1;32m      1\u001b[0m db.mytable.insert({\n\u001b[0;32m----> 2\u001b[0;31m         \u001b[1;34m\"name\"\u001b[0m\u001b[1;33m:\u001b[0m\u001b[1;34m\"js\"\u001b[0m\u001b[1;33m\u001b[0m\u001b[0m\n\u001b[0m\u001b[1;32m      3\u001b[0m     })\n",
      "\u001b[0;32mC:\\Users\\da_yo\\Anaconda2\\lib\\site-packages\\pymongo\\collection.pyc\u001b[0m in \u001b[0;36minsert\u001b[0;34m(self, doc_or_docs, manipulate, check_keys, continue_on_error, **kwargs)\u001b[0m\n\u001b[1;32m   2208\u001b[0m         \u001b[1;32mif\u001b[0m \u001b[0mkwargs\u001b[0m\u001b[1;33m:\u001b[0m\u001b[1;33m\u001b[0m\u001b[0m\n\u001b[1;32m   2209\u001b[0m             \u001b[0mwrite_concern\u001b[0m \u001b[1;33m=\u001b[0m \u001b[0mWriteConcern\u001b[0m\u001b[1;33m(\u001b[0m\u001b[1;33m**\u001b[0m\u001b[0mkwargs\u001b[0m\u001b[1;33m)\u001b[0m\u001b[1;33m\u001b[0m\u001b[0m\n\u001b[0;32m-> 2210\u001b[0;31m         \u001b[1;32mwith\u001b[0m \u001b[0mself\u001b[0m\u001b[1;33m.\u001b[0m\u001b[0m_socket_for_writes\u001b[0m\u001b[1;33m(\u001b[0m\u001b[1;33m)\u001b[0m \u001b[1;32mas\u001b[0m \u001b[0msock_info\u001b[0m\u001b[1;33m:\u001b[0m\u001b[1;33m\u001b[0m\u001b[0m\n\u001b[0m\u001b[1;32m   2211\u001b[0m             return self._insert(sock_info, doc_or_docs, not continue_on_error,\n\u001b[1;32m   2212\u001b[0m                                 check_keys, manipulate, write_concern)\n",
      "\u001b[0;32mC:\\Users\\da_yo\\Anaconda2\\lib\\contextlib.pyc\u001b[0m in \u001b[0;36m__enter__\u001b[0;34m(self)\u001b[0m\n\u001b[1;32m     15\u001b[0m     \u001b[1;32mdef\u001b[0m \u001b[0m__enter__\u001b[0m\u001b[1;33m(\u001b[0m\u001b[0mself\u001b[0m\u001b[1;33m)\u001b[0m\u001b[1;33m:\u001b[0m\u001b[1;33m\u001b[0m\u001b[0m\n\u001b[1;32m     16\u001b[0m         \u001b[1;32mtry\u001b[0m\u001b[1;33m:\u001b[0m\u001b[1;33m\u001b[0m\u001b[0m\n\u001b[0;32m---> 17\u001b[0;31m             \u001b[1;32mreturn\u001b[0m \u001b[0mself\u001b[0m\u001b[1;33m.\u001b[0m\u001b[0mgen\u001b[0m\u001b[1;33m.\u001b[0m\u001b[0mnext\u001b[0m\u001b[1;33m(\u001b[0m\u001b[1;33m)\u001b[0m\u001b[1;33m\u001b[0m\u001b[0m\n\u001b[0m\u001b[1;32m     18\u001b[0m         \u001b[1;32mexcept\u001b[0m \u001b[0mStopIteration\u001b[0m\u001b[1;33m:\u001b[0m\u001b[1;33m\u001b[0m\u001b[0m\n\u001b[1;32m     19\u001b[0m             \u001b[1;32mraise\u001b[0m \u001b[0mRuntimeError\u001b[0m\u001b[1;33m(\u001b[0m\u001b[1;34m\"generator didn't yield\"\u001b[0m\u001b[1;33m)\u001b[0m\u001b[1;33m\u001b[0m\u001b[0m\n",
      "\u001b[0;32mC:\\Users\\da_yo\\Anaconda2\\lib\\site-packages\\pymongo\\mongo_client.pyc\u001b[0m in \u001b[0;36m_get_socket\u001b[0;34m(self, selector)\u001b[0m\n\u001b[1;32m    760\u001b[0m     \u001b[1;33m@\u001b[0m\u001b[0mcontextlib\u001b[0m\u001b[1;33m.\u001b[0m\u001b[0mcontextmanager\u001b[0m\u001b[1;33m\u001b[0m\u001b[0m\n\u001b[1;32m    761\u001b[0m     \u001b[1;32mdef\u001b[0m \u001b[0m_get_socket\u001b[0m\u001b[1;33m(\u001b[0m\u001b[0mself\u001b[0m\u001b[1;33m,\u001b[0m \u001b[0mselector\u001b[0m\u001b[1;33m)\u001b[0m\u001b[1;33m:\u001b[0m\u001b[1;33m\u001b[0m\u001b[0m\n\u001b[0;32m--> 762\u001b[0;31m         \u001b[0mserver\u001b[0m \u001b[1;33m=\u001b[0m \u001b[0mself\u001b[0m\u001b[1;33m.\u001b[0m\u001b[0m_get_topology\u001b[0m\u001b[1;33m(\u001b[0m\u001b[1;33m)\u001b[0m\u001b[1;33m.\u001b[0m\u001b[0mselect_server\u001b[0m\u001b[1;33m(\u001b[0m\u001b[0mselector\u001b[0m\u001b[1;33m)\u001b[0m\u001b[1;33m\u001b[0m\u001b[0m\n\u001b[0m\u001b[1;32m    763\u001b[0m         \u001b[1;32mtry\u001b[0m\u001b[1;33m:\u001b[0m\u001b[1;33m\u001b[0m\u001b[0m\n\u001b[1;32m    764\u001b[0m             \u001b[1;32mwith\u001b[0m \u001b[0mserver\u001b[0m\u001b[1;33m.\u001b[0m\u001b[0mget_socket\u001b[0m\u001b[1;33m(\u001b[0m\u001b[0mself\u001b[0m\u001b[1;33m.\u001b[0m\u001b[0m__all_credentials\u001b[0m\u001b[1;33m)\u001b[0m \u001b[1;32mas\u001b[0m \u001b[0msock_info\u001b[0m\u001b[1;33m:\u001b[0m\u001b[1;33m\u001b[0m\u001b[0m\n",
      "\u001b[0;32mC:\\Users\\da_yo\\Anaconda2\\lib\\site-packages\\pymongo\\topology.pyc\u001b[0m in \u001b[0;36mselect_server\u001b[0;34m(self, selector, server_selection_timeout, address)\u001b[0m\n\u001b[1;32m    208\u001b[0m         return random.choice(self.select_servers(selector,\n\u001b[1;32m    209\u001b[0m                                                  \u001b[0mserver_selection_timeout\u001b[0m\u001b[1;33m,\u001b[0m\u001b[1;33m\u001b[0m\u001b[0m\n\u001b[0;32m--> 210\u001b[0;31m                                                  address))\n\u001b[0m\u001b[1;32m    211\u001b[0m \u001b[1;33m\u001b[0m\u001b[0m\n\u001b[1;32m    212\u001b[0m     def select_server_by_address(self, address,\n",
      "\u001b[0;32mC:\\Users\\da_yo\\Anaconda2\\lib\\site-packages\\pymongo\\topology.pyc\u001b[0m in \u001b[0;36mselect_servers\u001b[0;34m(self, selector, server_selection_timeout, address)\u001b[0m\n\u001b[1;32m    184\u001b[0m                 \u001b[1;32mif\u001b[0m \u001b[0mserver_timeout\u001b[0m \u001b[1;33m==\u001b[0m \u001b[1;36m0\u001b[0m \u001b[1;32mor\u001b[0m \u001b[0mnow\u001b[0m \u001b[1;33m>\u001b[0m \u001b[0mend_time\u001b[0m\u001b[1;33m:\u001b[0m\u001b[1;33m\u001b[0m\u001b[0m\n\u001b[1;32m    185\u001b[0m                     raise ServerSelectionTimeoutError(\n\u001b[0;32m--> 186\u001b[0;31m                         self._error_message(selector))\n\u001b[0m\u001b[1;32m    187\u001b[0m \u001b[1;33m\u001b[0m\u001b[0m\n\u001b[1;32m    188\u001b[0m                 \u001b[0mself\u001b[0m\u001b[1;33m.\u001b[0m\u001b[0m_ensure_opened\u001b[0m\u001b[1;33m(\u001b[0m\u001b[1;33m)\u001b[0m\u001b[1;33m\u001b[0m\u001b[0m\n",
      "\u001b[0;31mServerSelectionTimeoutError\u001b[0m: localhost:27017: [Errno 10061] "
     ]
    }
   ],
   "source": [
    "db.mytable.insert({\n",
    "        \"name\":\"js\"\n",
    "    })"
   ]
  },
  {
   "cell_type": "code",
   "execution_count": null,
   "metadata": {
    "collapsed": false
   },
   "outputs": [],
   "source": [
    "empCol=db.mytable.find()"
   ]
  },
  {
   "cell_type": "code",
   "execution_count": null,
   "metadata": {
    "collapsed": false
   },
   "outputs": [],
   "source": [
    "type(empCol)"
   ]
  },
  {
   "cell_type": "code",
   "execution_count": null,
   "metadata": {
    "collapsed": false
   },
   "outputs": [],
   "source": [
    "for emp in empCol:\n",
    "    print emp"
   ]
  },
  {
   "cell_type": "code",
   "execution_count": 16,
   "metadata": {
    "collapsed": false
   },
   "outputs": [
    {
     "data": {
      "text/plain": [
       "dict"
      ]
     },
     "execution_count": 16,
     "metadata": {},
     "output_type": "execute_result"
    }
   ],
   "source": [
    "type(emp)"
   ]
  },
  {
   "cell_type": "code",
   "execution_count": 17,
   "metadata": {
    "collapsed": false
   },
   "outputs": [
    {
     "data": {
      "text/plain": [
       "u'js'"
      ]
     },
     "execution_count": 17,
     "metadata": {},
     "output_type": "execute_result"
    }
   ],
   "source": [
    "emp['name']"
   ]
  },
  {
   "cell_type": "code",
   "execution_count": 28,
   "metadata": {
    "collapsed": false
   },
   "outputs": [],
   "source": [
    "def getKey(keyPath):\n",
    "    d=dict()\n",
    "    f=open(keyPath,'r')\n",
    "    for line in f.readlines():\n",
    "        row=line.split('=')\n",
    "        row0=row[0]\n",
    "        d[row0]=row[1].strip()\n",
    "    return d"
   ]
  },
  {
   "cell_type": "code",
   "execution_count": 29,
   "metadata": {
    "collapsed": true
   },
   "outputs": [],
   "source": [
    "import os\n",
    "\n",
    "keyPath=os.path.join(os.getcwd(), 'src', 'key.properties')\n",
    "key=getKey(keyPath)"
   ]
  },
  {
   "cell_type": "code",
   "execution_count": 30,
   "metadata": {
    "collapsed": false
   },
   "outputs": [
    {
     "name": "stdout",
     "output_type": "stream",
     "text": [
      "{'dataseoul': '4d4242484864617938315369514567', 'gokr': 'lbJPWb7U14QILqLdfz6sDx9MOQA9qogxZ0x5BjiNCpH5wd5qMQtyW%2Bn1EmzsI1c9tzS7edrRiHAKZeVxTPAwFQ%3D%3D'}\n"
     ]
    }
   ],
   "source": [
    "print key"
   ]
  },
  {
   "cell_type": "code",
   "execution_count": 5,
   "metadata": {
    "collapsed": false
   },
   "outputs": [
    {
     "ename": "NameError",
     "evalue": "name 'key' is not defined",
     "output_type": "error",
     "traceback": [
      "\u001b[0;31m---------------------------------------------------------------------------\u001b[0m",
      "\u001b[0;31mNameError\u001b[0m                                 Traceback (most recent call last)",
      "\u001b[0;32m<ipython-input-5-245ed40931e3>\u001b[0m in \u001b[0;36m<module>\u001b[0;34m()\u001b[0m\n\u001b[1;32m      2\u001b[0m \u001b[1;32mimport\u001b[0m \u001b[0mrequests\u001b[0m\u001b[1;33m\u001b[0m\u001b[0m\n\u001b[1;32m      3\u001b[0m \u001b[0m_url\u001b[0m\u001b[1;33m=\u001b[0m\u001b[1;34m'http://openAPI.seoul.go.kr:8088'\u001b[0m\u001b[1;33m\u001b[0m\u001b[0m\n\u001b[0;32m----> 4\u001b[0;31m \u001b[0m_key\u001b[0m\u001b[1;33m=\u001b[0m\u001b[0mstr\u001b[0m\u001b[1;33m(\u001b[0m\u001b[0mkey\u001b[0m\u001b[1;33m.\u001b[0m\u001b[0mproperties\u001b[0m\u001b[1;33m[\u001b[0m\u001b[1;34m'dataseoul'\u001b[0m\u001b[1;33m]\u001b[0m\u001b[1;33m)\u001b[0m\u001b[1;33m\u001b[0m\u001b[0m\n\u001b[0m\u001b[1;32m      5\u001b[0m \u001b[0m_type\u001b[0m\u001b[1;33m=\u001b[0m\u001b[1;34m'xml'\u001b[0m\u001b[1;33m\u001b[0m\u001b[0m\n\u001b[1;32m      6\u001b[0m \u001b[0m_service\u001b[0m\u001b[1;33m=\u001b[0m\u001b[1;34m'CardSubwayStatisticsService'\u001b[0m\u001b[1;33m\u001b[0m\u001b[0m\n",
      "\u001b[0;31mNameError\u001b[0m: name 'key' is not defined"
     ]
    }
   ],
   "source": [
    "import os\n",
    "import requests\n",
    "_url='http://openAPI.seoul.go.kr:8088'\n",
    "_key=str(key.properties['dataseoul'])\n",
    "_type='xml'\n",
    "_service='CardSubwayStatisticsService'\n",
    "_start_index=1\n",
    "_end_index=5\n",
    "_use_mon='201306'"
   ]
  },
  {
   "cell_type": "code",
   "execution_count": 1,
   "metadata": {
    "collapsed": false
   },
   "outputs": [
    {
     "ename": "NameError",
     "evalue": "name '_maxIter' is not defined",
     "output_type": "error",
     "traceback": [
      "\u001b[0;31m---------------------------------------------------------------------------\u001b[0m",
      "\u001b[0;31mNameError\u001b[0m                                 Traceback (most recent call last)",
      "\u001b[0;32m<ipython-input-1-c4efd90812c3>\u001b[0m in \u001b[0;36m<module>\u001b[0;34m()\u001b[0m\n\u001b[1;32m      1\u001b[0m \u001b[0mMAXlTER\u001b[0m\u001b[1;33m=\u001b[0m\u001b[1;36m2\u001b[0m\u001b[1;33m\u001b[0m\u001b[0m\n\u001b[1;32m      2\u001b[0m \u001b[0mITER\u001b[0m\u001b[1;33m=\u001b[0m\u001b[1;36m0\u001b[0m\u001b[1;33m\u001b[0m\u001b[0m\n\u001b[0;32m----> 3\u001b[0;31m \u001b[1;32mwhile\u001b[0m \u001b[0mITER\u001b[0m\u001b[1;33m<\u001b[0m\u001b[0m_maxIter\u001b[0m\u001b[1;33m:\u001b[0m\u001b[1;33m\u001b[0m\u001b[0m\n\u001b[0m\u001b[1;32m      4\u001b[0m     \u001b[0mAPI\u001b[0m\u001b[1;33m=\u001b[0m\u001b[0mos\u001b[0m\u001b[1;33m.\u001b[0m\u001b[0mpath\u001b[0m\u001b[1;33m.\u001b[0m\u001b[0mjoin\u001b[0m\u001b[1;33m(\u001b[0m\u001b[0m_url\u001b[0m\u001b[1;33m,\u001b[0m\u001b[0m_key\u001b[0m\u001b[1;33m,\u001b[0m\u001b[0m_type\u001b[0m\u001b[1;33m,\u001b[0m\u001b[0m_service\u001b[0m\u001b[1;33m,\u001b[0m\u001b[0mstr\u001b[0m\u001b[1;33m(\u001b[0m\u001b[0m_start_index\u001b[0m\u001b[1;33m)\u001b[0m\u001b[1;33m,\u001b[0m\u001b[0mstr\u001b[0m\u001b[1;33m(\u001b[0m\u001b[0m_end_index\u001b[0m\u001b[1;33m)\u001b[0m\u001b[1;33m,\u001b[0m\u001b[0m_use_mon\u001b[0m\u001b[1;33m)\u001b[0m\u001b[1;33m\u001b[0m\u001b[0m\n\u001b[1;32m      5\u001b[0m     \u001b[1;31m#print _api\u001b[0m\u001b[1;33m\u001b[0m\u001b[1;33m\u001b[0m\u001b[0m\n",
      "\u001b[0;31mNameError\u001b[0m: name '_maxIter' is not defined"
     ]
    }
   ],
   "source": [
    "MAXlTER=2\n",
    "ITER=0\n",
    "while ITER<_maxIter:\n",
    "    API=os.path.join(_url,_key,_type,_service,str(_start_index),str(_end_index),_use_mon)\n",
    "    #print _api\n",
    "    response = requests.get(_api).text\n",
    "    print response\n",
    "    _start_index+=5\n",
    "    _end_index+=5\n",
    "    _iter+=1"
   ]
  },
  {
   "cell_type": "markdown",
   "metadata": {},
   "source": [
    "## Twitter"
   ]
  },
  {
   "cell_type": "code",
   "execution_count": 13,
   "metadata": {
    "collapsed": false
   },
   "outputs": [],
   "source": [
    "import twitter"
   ]
  },
  {
   "cell_type": "code",
   "execution_count": 14,
   "metadata": {
    "collapsed": true
   },
   "outputs": [],
   "source": [
    "import oauth2 as oauth\n",
    "import json"
   ]
  },
  {
   "cell_type": "code",
   "execution_count": 29,
   "metadata": {
    "collapsed": true
   },
   "outputs": [],
   "source": [
    "def getApiKey(keyPath):\n",
    "    d=dict()\n",
    "    f=open(KeyPath, 'r')\n",
    "    for line in f.readlines():\n",
    "        row=line.split('=')\n",
    "        if(row[0]!='debug'):\n",
    "            row0=row[0].split('.')\n",
    "            d[row0[1].upper()]=row[1].strip()\n",
    "    return d"
   ]
  },
  {
   "cell_type": "code",
   "execution_count": 52,
   "metadata": {
    "collapsed": false
   },
   "outputs": [
    {
     "data": {
      "text/plain": [
       "'C:\\\\Users\\\\da_yo\\\\Documents'"
      ]
     },
     "execution_count": 52,
     "metadata": {},
     "output_type": "execute_result"
    }
   ],
   "source": [
    "os.getcwd()"
   ]
  },
  {
   "cell_type": "code",
   "execution_count": 55,
   "metadata": {
    "collapsed": false
   },
   "outputs": [],
   "source": [
    "import os\n",
    "keyPath=os.path.join(os.getcwd(), 'src', 'twitter.properties')\n",
    "\n",
    "f=open(keyPath,'r')\n",
    "lines=f.readlines()\n",
    "\n",
    "def getKey(keyPath):\n",
    "    d=dict()\n",
    "    f=open(keyPath,'r')\n",
    "    lines=f.readlines()\n",
    "    for line in lines:\n",
    "        row=line.split('=')\n",
    "        row0=row[0]\n",
    "        d[row0]=row[1].strip()\n",
    "    return d\n",
    "\n",
    "key=getKey(keyPath)"
   ]
  },
  {
   "cell_type": "code",
   "execution_count": 30,
   "metadata": {
    "collapsed": false
   },
   "outputs": [
    {
     "data": {
      "text/plain": [
       "'C:\\\\Users\\\\da_yo'"
      ]
     },
     "execution_count": 30,
     "metadata": {},
     "output_type": "execute_result"
    }
   ],
   "source": [
    "import os\n",
    "os.path.expanduser(\"~\")"
   ]
  },
  {
   "cell_type": "code",
   "execution_count": 56,
   "metadata": {
    "collapsed": false
   },
   "outputs": [
    {
     "name": "stdout",
     "output_type": "stream",
     "text": [
      "<twitter.api.Twitter object at 0x000000000472E358>\n"
     ]
    }
   ],
   "source": [
    "import twitter\n",
    "\n",
    "auth = twitter.oauth.OAuth(key['ACCESSTOKEN'],key['ACCESSTOKENSECRET'],\n",
    "                            key['CONSUMERKEY'], key['CONSUMERSECRET'])\n",
    "_client = twitter.Twitter(auth=auth)\n",
    "print _client"
   ]
  },
  {
   "cell_type": "code",
   "execution_count": 57,
   "metadata": {
    "collapsed": false
   },
   "outputs": [
    {
     "data": {
      "text/plain": [
       "{u'contributors': None,\n",
       " u'coordinates': None,\n",
       " u'created_at': u'Wed Nov 09 07:54:06 +0000 2016',\n",
       " u'entities': {u'hashtags': [],\n",
       "  u'symbols': [],\n",
       "  u'urls': [],\n",
       "  u'user_mentions': []},\n",
       " u'favorite_count': 0,\n",
       " u'favorited': False,\n",
       " u'geo': None,\n",
       " u'id': 796259557437603840L,\n",
       " u'id_str': u'796259557437603840',\n",
       " u'in_reply_to_screen_name': None,\n",
       " u'in_reply_to_status_id': None,\n",
       " u'in_reply_to_status_id_str': None,\n",
       " u'in_reply_to_user_id': None,\n",
       " u'in_reply_to_user_id_str': None,\n",
       " u'is_quote_status': False,\n",
       " u'lang': u'no',\n",
       " u'place': None,\n",
       " u'retweet_count': 0,\n",
       " u'retweeted': False,\n",
       " u'source': u'<a href=\"http://blog.naver.com/dayoung201\" rel=\"nofollow\">Dayoung21</a>',\n",
       " u'text': u'Hello Twitter 1 160924',\n",
       " u'truncated': False,\n",
       " u'user': {u'contributors_enabled': False,\n",
       "  u'created_at': u'Mon Nov 07 00:50:37 +0000 2016',\n",
       "  u'default_profile': True,\n",
       "  u'default_profile_image': True,\n",
       "  u'description': u'',\n",
       "  u'entities': {u'description': {u'urls': []}},\n",
       "  u'favourites_count': 0,\n",
       "  u'follow_request_sent': False,\n",
       "  u'followers_count': 0,\n",
       "  u'following': False,\n",
       "  u'friends_count': 127,\n",
       "  u'geo_enabled': False,\n",
       "  u'has_extended_profile': False,\n",
       "  u'id': 795428207121952768L,\n",
       "  u'id_str': u'795428207121952768',\n",
       "  u'is_translation_enabled': False,\n",
       "  u'is_translator': False,\n",
       "  u'lang': u'ko',\n",
       "  u'listed_count': 0,\n",
       "  u'location': u'',\n",
       "  u'name': u'Regina Da-young Jeon',\n",
       "  u'notifications': False,\n",
       "  u'profile_background_color': u'F5F8FA',\n",
       "  u'profile_background_image_url': None,\n",
       "  u'profile_background_image_url_https': None,\n",
       "  u'profile_background_tile': False,\n",
       "  u'profile_image_url': u'http://abs.twimg.com/sticky/default_profile_images/default_profile_0_normal.png',\n",
       "  u'profile_image_url_https': u'https://abs.twimg.com/sticky/default_profile_images/default_profile_0_normal.png',\n",
       "  u'profile_link_color': u'1DA1F2',\n",
       "  u'profile_sidebar_border_color': u'C0DEED',\n",
       "  u'profile_sidebar_fill_color': u'DDEEF6',\n",
       "  u'profile_text_color': u'333333',\n",
       "  u'profile_use_background_image': True,\n",
       "  u'protected': False,\n",
       "  u'screen_name': u'Smile_ReGiNa21',\n",
       "  u'statuses_count': 1,\n",
       "  u'time_zone': None,\n",
       "  u'translator_type': u'none',\n",
       "  u'url': None,\n",
       "  u'utc_offset': None,\n",
       "  u'verified': False}}"
      ]
     },
     "execution_count": 57,
     "metadata": {},
     "output_type": "execute_result"
    }
   ],
   "source": [
    "_client.statuses.update(status=\"Hello Twitter 1 160924\")"
   ]
  },
  {
   "cell_type": "code",
   "execution_count": 58,
   "metadata": {
    "collapsed": true
   },
   "outputs": [],
   "source": [
    "import oauth2 as oauth\n",
    "import json"
   ]
  },
  {
   "cell_type": "code",
   "execution_count": 59,
   "metadata": {
    "collapsed": false
   },
   "outputs": [],
   "source": [
    "consumer = oauth.Consumer(key=key['CONSUMERKEY'], secret=key['CONSUMERSECRET'])\n",
    "token=oauth.Token(key=key['ACCESSTOKEN'], secret=key['ACCESSTOKENSECRET'])"
   ]
  },
  {
   "cell_type": "code",
   "execution_count": 60,
   "metadata": {
    "collapsed": true
   },
   "outputs": [],
   "source": [
    "client = oauth.Client(consumer, token)"
   ]
  },
  {
   "cell_type": "code",
   "execution_count": 61,
   "metadata": {
    "collapsed": false
   },
   "outputs": [
    {
     "name": "stdout",
     "output_type": "stream",
     "text": [
      "Help on method request in module oauth2:\n",
      "\n",
      "request(self, uri, method='GET', body='', headers=None, redirections=5, connection_type=None) method of oauth2.Client instance\n",
      "\n"
     ]
    }
   ],
   "source": [
    "help(client.request)"
   ]
  },
  {
   "cell_type": "code",
   "execution_count": 62,
   "metadata": {
    "collapsed": true
   },
   "outputs": [],
   "source": [
    "import urllib\n",
    "url = \"https://api.twitter.com/1.1/statuses/update.json\"\n",
    "mybody=urllib.urlencode({'status': 'Hello 21 160924'})\n",
    "response,content=client.request(url,method='POST',body=mybody)"
   ]
  },
  {
   "cell_type": "code",
   "execution_count": 63,
   "metadata": {
    "collapsed": false
   },
   "outputs": [
    {
     "name": "stdout",
     "output_type": "stream",
     "text": [
      "{\"created_at\":\"Wed Nov 09 07:59:58 +0000 2016\",\"id\":796261033824292864,\"id_str\":\"796261033824292864\",\"text\":\"Hello 21 160924\",\"truncated\":false,\"entities\":{\"hashtags\":[],\"symbols\":[],\"user_mentions\":[],\"urls\":[]},\"source\":\"\\u003ca href=\\\"http:\\/\\/blog.naver.com\\/dayoung201\\\" rel=\\\"nofollow\\\"\\u003eDayoung21\\u003c\\/a\\u003e\",\"in_reply_to_status_id\":null,\"in_reply_to_status_id_str\":null,\"in_reply_to_user_id\":null,\"in_reply_to_user_id_str\":null,\"in_reply_to_screen_name\":null,\"user\":{\"id\":795428207121952768,\"id_str\":\"795428207121952768\",\"name\":\"Regina Da-young Jeon\",\"screen_name\":\"Smile_ReGiNa21\",\"location\":\"\",\"description\":\"\",\"url\":null,\"entities\":{\"description\":{\"urls\":[]}},\"protected\":false,\"followers_count\":0,\"friends_count\":127,\"listed_count\":0,\"created_at\":\"Mon Nov 07 00:50:37 +0000 2016\",\"favourites_count\":0,\"utc_offset\":null,\"time_zone\":null,\"geo_enabled\":false,\"verified\":false,\"statuses_count\":1,\"lang\":\"ko\",\"contributors_enabled\":false,\"is_translator\":false,\"is_translation_enabled\":false,\"profile_background_color\":\"F5F8FA\",\"profile_background_image_url\":null,\"profile_background_image_url_https\":null,\"profile_background_tile\":false,\"profile_image_url\":\"http:\\/\\/abs.twimg.com\\/sticky\\/default_profile_images\\/default_profile_0_normal.png\",\"profile_image_url_https\":\"https:\\/\\/abs.twimg.com\\/sticky\\/default_profile_images\\/default_profile_0_normal.png\",\"profile_link_color\":\"1DA1F2\",\"profile_sidebar_border_color\":\"C0DEED\",\"profile_sidebar_fill_color\":\"DDEEF6\",\"profile_text_color\":\"333333\",\"profile_use_background_image\":true,\"has_extended_profile\":false,\"default_profile\":true,\"default_profile_image\":true,\"following\":false,\"follow_request_sent\":false,\"notifications\":false,\"translator_type\":\"none\"},\"geo\":null,\"coordinates\":null,\"place\":null,\"contributors\":null,\"is_quote_status\":false,\"retweet_count\":0,\"favorite_count\":0,\"favorited\":false,\"retweeted\":false,\"lang\":\"en\"}\n"
     ]
    }
   ],
   "source": [
    "print content"
   ]
  },
  {
   "cell_type": "code",
   "execution_count": 64,
   "metadata": {
    "collapsed": false
   },
   "outputs": [
    {
     "data": {
      "text/plain": [
       "str"
      ]
     },
     "execution_count": 64,
     "metadata": {},
     "output_type": "execute_result"
    }
   ],
   "source": [
    "type(content)"
   ]
  },
  {
   "cell_type": "code",
   "execution_count": 65,
   "metadata": {
    "collapsed": false
   },
   "outputs": [
    {
     "data": {
      "text/plain": [
       "'{\"created_at\":\"Wed Nov 09 07:59:58 +0000 2016\",\"id\":796261033824292864,\"id_str\":\"796261033824292864\"'"
      ]
     },
     "execution_count": 65,
     "metadata": {},
     "output_type": "execute_result"
    }
   ],
   "source": [
    "content[0:100]"
   ]
  },
  {
   "cell_type": "code",
   "execution_count": 66,
   "metadata": {
    "collapsed": true
   },
   "outputs": [],
   "source": [
    "import json"
   ]
  },
  {
   "cell_type": "code",
   "execution_count": 67,
   "metadata": {
    "collapsed": false
   },
   "outputs": [
    {
     "data": {
      "text/plain": [
       "'\"{\\\\\"created_at\\\\\":\\\\\"Wed Nov 09 07:59:58 +0000 2016\\\\\",\\\\\"id\\\\\":796261033824292864,\\\\\"id_str\\\\\":\\\\\"796261033824292864\\\\\",\\\\\"text\\\\\":\\\\\"Hello 21 160924\\\\\",\\\\\"truncated\\\\\":false,\\\\\"entities\\\\\":{\\\\\"hashtags\\\\\":[],\\\\\"symbols\\\\\":[],\\\\\"user_mentions\\\\\":[],\\\\\"urls\\\\\":[]},\\\\\"source\\\\\":\\\\\"\\\\\\\\u003ca href=\\\\\\\\\\\\\"http:\\\\\\\\/\\\\\\\\/blog.naver.com\\\\\\\\/dayoung201\\\\\\\\\\\\\" rel=\\\\\\\\\\\\\"nofollow\\\\\\\\\\\\\"\\\\\\\\u003eDayoung21\\\\\\\\u003c\\\\\\\\/a\\\\\\\\u003e\\\\\",\\\\\"in_reply_to_status_id\\\\\":null,\\\\\"in_reply_to_status_id_str\\\\\":null,\\\\\"in_reply_to_user_id\\\\\":null,\\\\\"in_reply_to_user_id_str\\\\\":null,\\\\\"in_reply_to_screen_name\\\\\":null,\\\\\"user\\\\\":{\\\\\"id\\\\\":795428207121952768,\\\\\"id_str\\\\\":\\\\\"795428207121952768\\\\\",\\\\\"name\\\\\":\\\\\"Regina Da-young Jeon\\\\\",\\\\\"screen_name\\\\\":\\\\\"Smile_ReGiNa21\\\\\",\\\\\"location\\\\\":\\\\\"\\\\\",\\\\\"description\\\\\":\\\\\"\\\\\",\\\\\"url\\\\\":null,\\\\\"entities\\\\\":{\\\\\"description\\\\\":{\\\\\"urls\\\\\":[]}},\\\\\"protected\\\\\":false,\\\\\"followers_count\\\\\":0,\\\\\"friends_count\\\\\":127,\\\\\"listed_count\\\\\":0,\\\\\"created_at\\\\\":\\\\\"Mon Nov 07 00:50:37 +0000 2016\\\\\",\\\\\"favourites_count\\\\\":0,\\\\\"utc_offset\\\\\":null,\\\\\"time_zone\\\\\":null,\\\\\"geo_enabled\\\\\":false,\\\\\"verified\\\\\":false,\\\\\"statuses_count\\\\\":1,\\\\\"lang\\\\\":\\\\\"ko\\\\\",\\\\\"contributors_enabled\\\\\":false,\\\\\"is_translator\\\\\":false,\\\\\"is_translation_enabled\\\\\":false,\\\\\"profile_background_color\\\\\":\\\\\"F5F8FA\\\\\",\\\\\"profile_background_image_url\\\\\":null,\\\\\"profile_background_image_url_https\\\\\":null,\\\\\"profile_background_tile\\\\\":false,\\\\\"profile_image_url\\\\\":\\\\\"http:\\\\\\\\/\\\\\\\\/abs.twimg.com\\\\\\\\/sticky\\\\\\\\/default_profile_images\\\\\\\\/default_profile_0_normal.png\\\\\",\\\\\"profile_image_url_https\\\\\":\\\\\"https:\\\\\\\\/\\\\\\\\/abs.twimg.com\\\\\\\\/sticky\\\\\\\\/default_profile_images\\\\\\\\/default_profile_0_normal.png\\\\\",\\\\\"profile_link_color\\\\\":\\\\\"1DA1F2\\\\\",\\\\\"profile_sidebar_border_color\\\\\":\\\\\"C0DEED\\\\\",\\\\\"profile_sidebar_fill_color\\\\\":\\\\\"DDEEF6\\\\\",\\\\\"profile_text_color\\\\\":\\\\\"333333\\\\\",\\\\\"profile_use_background_image\\\\\":true,\\\\\"has_extended_profile\\\\\":false,\\\\\"default_profile\\\\\":true,\\\\\"default_profile_image\\\\\":true,\\\\\"following\\\\\":false,\\\\\"follow_request_sent\\\\\":false,\\\\\"notifications\\\\\":false,\\\\\"translator_type\\\\\":\\\\\"none\\\\\"},\\\\\"geo\\\\\":null,\\\\\"coordinates\\\\\":null,\\\\\"place\\\\\":null,\\\\\"contributors\\\\\":null,\\\\\"is_quote_status\\\\\":false,\\\\\"retweet_count\\\\\":0,\\\\\"favorite_count\\\\\":0,\\\\\"favorited\\\\\":false,\\\\\"retweeted\\\\\":false,\\\\\"lang\\\\\":\\\\\"en\\\\\"}\"'"
      ]
     },
     "execution_count": 67,
     "metadata": {},
     "output_type": "execute_result"
    }
   ],
   "source": [
    "json.dumps(content)"
   ]
  },
  {
   "cell_type": "code",
   "execution_count": 70,
   "metadata": {
    "collapsed": false
   },
   "outputs": [],
   "source": [
    "import io\n",
    "with io.open('src/ds_twitter_1.json', 'w', encoding='utf8') as json_file:\n",
    "    data=json.dumps(content, json_file, ensure_ascii=False, encoding='utf8')\n",
    "    json_file.write(data)"
   ]
  },
  {
   "cell_type": "code",
   "execution_count": 71,
   "metadata": {
    "collapsed": false
   },
   "outputs": [
    {
     "data": {
      "text/plain": [
       "u'C:\\\\Users\\\\da_yo\\\\Documents'"
      ]
     },
     "execution_count": 71,
     "metadata": {},
     "output_type": "execute_result"
    }
   ],
   "source": [
    "pwd"
   ]
  },
  {
   "cell_type": "markdown",
   "metadata": {},
   "source": [
    "## T-2 자신의 타임라인 가져오기"
   ]
  },
  {
   "cell_type": "code",
   "execution_count": 74,
   "metadata": {
    "collapsed": true
   },
   "outputs": [],
   "source": [
    "from pymongo import MongoClient"
   ]
  },
  {
   "cell_type": "code",
   "execution_count": 75,
   "metadata": {
    "collapsed": true
   },
   "outputs": [],
   "source": [
    "_mclient=MongoClient()"
   ]
  },
  {
   "cell_type": "code",
   "execution_count": 76,
   "metadata": {
    "collapsed": false
   },
   "outputs": [
    {
     "data": {
      "text/plain": [
       "Database(MongoClient(host=['localhost:27017'], document_class=dict, tz_aware=False, connect=True), u'ds_twitter')"
      ]
     },
     "execution_count": 76,
     "metadata": {},
     "output_type": "execute_result"
    }
   ],
   "source": [
    "_mclient['ds_twitter']"
   ]
  },
  {
   "cell_type": "code",
   "execution_count": 78,
   "metadata": {
    "collapsed": false
   },
   "outputs": [],
   "source": [
    "_db=_mclient.ds_twitter"
   ]
  },
  {
   "cell_type": "code",
   "execution_count": 79,
   "metadata": {
    "collapsed": true
   },
   "outputs": [],
   "source": [
    "_col=_db.home_timeline"
   ]
  },
  {
   "cell_type": "code",
   "execution_count": 80,
   "metadata": {
    "collapsed": true
   },
   "outputs": [],
   "source": [
    "url=\"https://api.twitter.com/1.1/statuses/home_timeline.json?count=2\""
   ]
  },
  {
   "cell_type": "code",
   "execution_count": 81,
   "metadata": {
    "collapsed": true
   },
   "outputs": [],
   "source": [
    "response, content=client.request(url)"
   ]
  },
  {
   "cell_type": "code",
   "execution_count": 85,
   "metadata": {
    "collapsed": false
   },
   "outputs": [
    {
     "data": {
      "text/plain": [
       "[{u'contributors': None,\n",
       "  u'coordinates': None,\n",
       "  u'created_at': u'Wed Nov 09 08:23:15 +0000 2016',\n",
       "  u'entities': {u'hashtags': [{u'indices': [20, 23], u'text': u'\\ubcf4\\ub78c'},\n",
       "    {u'indices': [42, 46], u'text': u'\\ud2f0\\uc544\\ub77c'},\n",
       "    {u'indices': [47, 52], u'text': u'TARA'},\n",
       "    {u'indices': [53, 57], u'text': u'\\ub760\\uc544\\ubaa8'},\n",
       "    {u'indices': [58, 64], u'text': u'tiamo'},\n",
       "    {u'indices': [65, 70], u'text': u'\\uc1fc\\ucf00\\uc774\\uc2a4'}],\n",
       "   u'media': [{u'display_url': u'pic.twitter.com/B345wrVUyA',\n",
       "     u'expanded_url': u'https://twitter.com/JTBC_Awards/status/796266892486815745/photo/1',\n",
       "     u'id': 796266647854018560L,\n",
       "     u'id_str': u'796266647854018560',\n",
       "     u'indices': [71, 94],\n",
       "     u'media_url': u'http://pbs.twimg.com/media/CwzoTCPUcAAT-R6.jpg',\n",
       "     u'media_url_https': u'https://pbs.twimg.com/media/CwzoTCPUcAAT-R6.jpg',\n",
       "     u'sizes': {u'large': {u'h': 837, u'resize': u'fit', u'w': 530},\n",
       "      u'medium': {u'h': 837, u'resize': u'fit', u'w': 530},\n",
       "      u'small': {u'h': 680, u'resize': u'fit', u'w': 431},\n",
       "      u'thumb': {u'h': 150, u'resize': u'crop', u'w': 150}},\n",
       "     u'type': u'photo',\n",
       "     u'url': u'https://t.co/B345wrVUyA'}],\n",
       "   u'symbols': [],\n",
       "   u'urls': [],\n",
       "   u'user_mentions': []},\n",
       "  u'extended_entities': {u'media': [{u'display_url': u'pic.twitter.com/B345wrVUyA',\n",
       "     u'expanded_url': u'https://twitter.com/JTBC_Awards/status/796266892486815745/photo/1',\n",
       "     u'id': 796266647854018560L,\n",
       "     u'id_str': u'796266647854018560',\n",
       "     u'indices': [71, 94],\n",
       "     u'media_url': u'http://pbs.twimg.com/media/CwzoTCPUcAAT-R6.jpg',\n",
       "     u'media_url_https': u'https://pbs.twimg.com/media/CwzoTCPUcAAT-R6.jpg',\n",
       "     u'sizes': {u'large': {u'h': 837, u'resize': u'fit', u'w': 530},\n",
       "      u'medium': {u'h': 837, u'resize': u'fit', u'w': 530},\n",
       "      u'small': {u'h': 680, u'resize': u'fit', u'w': 431},\n",
       "      u'thumb': {u'h': 150, u'resize': u'crop', u'w': 150}},\n",
       "     u'type': u'photo',\n",
       "     u'url': u'https://t.co/B345wrVUyA'},\n",
       "    {u'display_url': u'pic.twitter.com/B345wrVUyA',\n",
       "     u'expanded_url': u'https://twitter.com/JTBC_Awards/status/796266892486815745/photo/1',\n",
       "     u'id': 796266660491448320L,\n",
       "     u'id_str': u'796266660491448320',\n",
       "     u'indices': [71, 94],\n",
       "     u'media_url': u'http://pbs.twimg.com/media/CwzoTxUUUAAnXm_.jpg',\n",
       "     u'media_url_https': u'https://pbs.twimg.com/media/CwzoTxUUUAAnXm_.jpg',\n",
       "     u'sizes': {u'large': {u'h': 757, u'resize': u'fit', u'w': 530},\n",
       "      u'medium': {u'h': 757, u'resize': u'fit', u'w': 530},\n",
       "      u'small': {u'h': 680, u'resize': u'fit', u'w': 476},\n",
       "      u'thumb': {u'h': 150, u'resize': u'crop', u'w': 150}},\n",
       "     u'type': u'photo',\n",
       "     u'url': u'https://t.co/B345wrVUyA'},\n",
       "    {u'display_url': u'pic.twitter.com/B345wrVUyA',\n",
       "     u'expanded_url': u'https://twitter.com/JTBC_Awards/status/796266892486815745/photo/1',\n",
       "     u'id': 796266708432338944L,\n",
       "     u'id_str': u'796266708432338944',\n",
       "     u'indices': [71, 94],\n",
       "     u'media_url': u'http://pbs.twimg.com/media/CwzoWj6UQAAKRc-.jpg',\n",
       "     u'media_url_https': u'https://pbs.twimg.com/media/CwzoWj6UQAAKRc-.jpg',\n",
       "     u'sizes': {u'large': {u'h': 895, u'resize': u'fit', u'w': 530},\n",
       "      u'medium': {u'h': 895, u'resize': u'fit', u'w': 530},\n",
       "      u'small': {u'h': 680, u'resize': u'fit', u'w': 403},\n",
       "      u'thumb': {u'h': 150, u'resize': u'crop', u'w': 150}},\n",
       "     u'type': u'photo',\n",
       "     u'url': u'https://t.co/B345wrVUyA'},\n",
       "    {u'display_url': u'pic.twitter.com/B345wrVUyA',\n",
       "     u'expanded_url': u'https://twitter.com/JTBC_Awards/status/796266892486815745/photo/1',\n",
       "     u'id': 796266722395242496L,\n",
       "     u'id_str': u'796266722395242496',\n",
       "     u'indices': [71, 94],\n",
       "     u'media_url': u'http://pbs.twimg.com/media/CwzoXX7VQAABbqE.jpg',\n",
       "     u'media_url_https': u'https://pbs.twimg.com/media/CwzoXX7VQAABbqE.jpg',\n",
       "     u'sizes': {u'large': {u'h': 834, u'resize': u'fit', u'w': 530},\n",
       "      u'medium': {u'h': 834, u'resize': u'fit', u'w': 530},\n",
       "      u'small': {u'h': 680, u'resize': u'fit', u'w': 432},\n",
       "      u'thumb': {u'h': 150, u'resize': u'crop', u'w': 150}},\n",
       "     u'type': u'photo',\n",
       "     u'url': u'https://t.co/B345wrVUyA'}]},\n",
       "  u'favorite_count': 0,\n",
       "  u'favorited': False,\n",
       "  u'geo': None,\n",
       "  u'id': 796266892486815745L,\n",
       "  u'id_str': u'796266892486815745',\n",
       "  u'in_reply_to_screen_name': None,\n",
       "  u'in_reply_to_status_id': None,\n",
       "  u'in_reply_to_status_id_str': None,\n",
       "  u'in_reply_to_user_id': None,\n",
       "  u'in_reply_to_user_id_str': None,\n",
       "  u'is_quote_status': False,\n",
       "  u'lang': u'ko',\n",
       "  u'place': None,\n",
       "  u'possibly_sensitive': False,\n",
       "  u'possibly_sensitive_appealable': False,\n",
       "  u'retweet_count': 0,\n",
       "  u'retweeted': False,\n",
       "  u'source': u'<a href=\"http://twitter.com\" rel=\"nofollow\">Twitter Web Client</a>',\n",
       "  u'text': u'[IS\\ub77c\\uc774\\ube0c] \\uc758\\uc790\\uac00 \\ub118\\ub098 \\ubd88\\ud3b8\\ud588\\ub358 #\\ubcf4\\ub78c \\uc774 \\ub204\\uac00 \\uc774\\ub7f0 \\uc758\\uc790 \\uc92c\\ub0d0! \\u3160\\u3160 #\\ud2f0\\uc544\\ub77c #TARA #\\ub760\\uc544\\ubaa8 #tiamo #\\uc1fc\\ucf00\\uc774\\uc2a4 https://t.co/B345wrVUyA',\n",
       "  u'truncated': False,\n",
       "  u'user': {u'contributors_enabled': False,\n",
       "   u'created_at': u'Wed Dec 10 01:53:15 +0000 2014',\n",
       "   u'default_profile': False,\n",
       "   u'default_profile_image': False,\n",
       "   u'description': u'\\ubc31\\uc0c1\\uc608\\uc220\\ub300\\uc0c1\\uacfc \\uace8\\ub4e0\\ub514\\uc2a4\\ud06c\\ub97c \\uc8fc\\ucd5c\\ud558\\ub294 \\ucd5c\\uace0\\uc758 \\uc5f0\\uc608\\ub274\\uc2a4 \\uc77c\\uac04\\uc2a4\\ud3ec\\uce20\\uc785\\ub2c8\\ub2e4.',\n",
       "   u'entities': {u'description': {u'urls': []},\n",
       "    u'url': {u'urls': [{u'display_url': u'M.isplus.live.joins.com',\n",
       "       u'expanded_url': u'http://M.isplus.live.joins.com/',\n",
       "       u'indices': [0, 23],\n",
       "       u'url': u'https://t.co/k3stKR6VTX'}]}},\n",
       "   u'favourites_count': 31,\n",
       "   u'follow_request_sent': False,\n",
       "   u'followers_count': 39260,\n",
       "   u'following': True,\n",
       "   u'friends_count': 93,\n",
       "   u'geo_enabled': False,\n",
       "   u'has_extended_profile': True,\n",
       "   u'id': 2924946528L,\n",
       "   u'id_str': u'2924946528',\n",
       "   u'is_translation_enabled': True,\n",
       "   u'is_translator': False,\n",
       "   u'lang': u'ko',\n",
       "   u'listed_count': 101,\n",
       "   u'location': u'seoul, korea ',\n",
       "   u'name': u'\\uc77c\\uac04\\uc2a4\\ud3ec\\uce20_\\uc5f0\\uc608\\ub274\\uc2a4',\n",
       "   u'notifications': False,\n",
       "   u'profile_background_color': u'000000',\n",
       "   u'profile_background_image_url': u'http://pbs.twimg.com/profile_background_images/560072551037038592/djwOqCsT.jpeg',\n",
       "   u'profile_background_image_url_https': u'https://pbs.twimg.com/profile_background_images/560072551037038592/djwOqCsT.jpeg',\n",
       "   u'profile_background_tile': False,\n",
       "   u'profile_banner_url': u'https://pbs.twimg.com/profile_banners/2924946528/1470126745',\n",
       "   u'profile_image_url': u'http://pbs.twimg.com/profile_images/791548595258273792/aSoLk6bW_normal.jpg',\n",
       "   u'profile_image_url_https': u'https://pbs.twimg.com/profile_images/791548595258273792/aSoLk6bW_normal.jpg',\n",
       "   u'profile_link_color': u'DD2E44',\n",
       "   u'profile_sidebar_border_color': u'000000',\n",
       "   u'profile_sidebar_fill_color': u'000000',\n",
       "   u'profile_text_color': u'000000',\n",
       "   u'profile_use_background_image': False,\n",
       "   u'protected': False,\n",
       "   u'screen_name': u'JTBC_Awards',\n",
       "   u'statuses_count': 2812,\n",
       "   u'time_zone': u'Seoul',\n",
       "   u'translator_type': u'none',\n",
       "   u'url': u'https://t.co/k3stKR6VTX',\n",
       "   u'utc_offset': 32400,\n",
       "   u'verified': True}},\n",
       " {u'contributors': None,\n",
       "  u'coordinates': None,\n",
       "  u'created_at': u'Wed Nov 09 08:21:42 +0000 2016',\n",
       "  u'entities': {u'hashtags': [],\n",
       "   u'symbols': [],\n",
       "   u'urls': [{u'display_url': u'twitter.com/i/web/status/7\\u2026',\n",
       "     u'expanded_url': u'https://twitter.com/i/web/status/796266501812592641',\n",
       "     u'indices': [117, 140],\n",
       "     u'url': u'https://t.co/cXbv6HUpKq'}],\n",
       "   u'user_mentions': [{u'id': 2223157392L,\n",
       "     u'id_str': u'2223157392',\n",
       "     u'indices': [70, 83],\n",
       "     u'name': u'Norman Ornstein',\n",
       "     u'screen_name': u'NormOrnstein'}]},\n",
       "  u'favorite_count': 2,\n",
       "  u'favorited': False,\n",
       "  u'geo': None,\n",
       "  u'id': 796266501812592641L,\n",
       "  u'id_str': u'796266501812592641',\n",
       "  u'in_reply_to_screen_name': None,\n",
       "  u'in_reply_to_status_id': None,\n",
       "  u'in_reply_to_status_id_str': None,\n",
       "  u'in_reply_to_user_id': None,\n",
       "  u'in_reply_to_user_id_str': None,\n",
       "  u'is_quote_status': False,\n",
       "  u'lang': u'en',\n",
       "  u'place': None,\n",
       "  u'possibly_sensitive': False,\n",
       "  u'possibly_sensitive_appealable': False,\n",
       "  u'retweet_count': 2,\n",
       "  u'retweeted': False,\n",
       "  u'source': u'<a href=\"http://twitter.com/download/iphone\" rel=\"nofollow\">Twitter for iPhone</a>',\n",
       "  u'text': u\"On this long and surprising day, it's been wonderful to have the wise @NormOrnstein beaming into my Tokyo living ro\\u2026 https://t.co/cXbv6HUpKq\",\n",
       "  u'truncated': True,\n",
       "  u'user': {u'contributors_enabled': False,\n",
       "   u'created_at': u'Sat Aug 15 14:21:50 +0000 2009',\n",
       "   u'default_profile': False,\n",
       "   u'default_profile_image': False,\n",
       "   u'description': u'Tokyo bureau chief for the @WashingtonPost, focusing on Japan and the Koreas.',\n",
       "   u'entities': {u'description': {u'urls': []},\n",
       "    u'url': {u'urls': [{u'display_url': u'washingtonpost.com/people/anna-fi\\u2026',\n",
       "       u'expanded_url': u'https://www.washingtonpost.com/people/anna-fifield/',\n",
       "       u'indices': [0, 23],\n",
       "       u'url': u'https://t.co/PBr6lJF8tO'}]}},\n",
       "   u'favourites_count': 3507,\n",
       "   u'follow_request_sent': False,\n",
       "   u'followers_count': 19163,\n",
       "   u'following': True,\n",
       "   u'friends_count': 1158,\n",
       "   u'geo_enabled': True,\n",
       "   u'has_extended_profile': False,\n",
       "   u'id': 65905779,\n",
       "   u'id_str': u'65905779',\n",
       "   u'is_translation_enabled': False,\n",
       "   u'is_translator': False,\n",
       "   u'lang': u'en',\n",
       "   u'listed_count': 800,\n",
       "   u'location': u'anna.fifield@washpost.com',\n",
       "   u'name': u'Anna Fifield',\n",
       "   u'notifications': False,\n",
       "   u'profile_background_color': u'000000',\n",
       "   u'profile_background_image_url': u'http://abs.twimg.com/images/themes/theme1/bg.png',\n",
       "   u'profile_background_image_url_https': u'https://abs.twimg.com/images/themes/theme1/bg.png',\n",
       "   u'profile_background_tile': False,\n",
       "   u'profile_banner_url': u'https://pbs.twimg.com/profile_banners/65905779/1463016417',\n",
       "   u'profile_image_url': u'http://pbs.twimg.com/profile_images/691449618329006080/ZtSbU6cz_normal.jpg',\n",
       "   u'profile_image_url_https': u'https://pbs.twimg.com/profile_images/691449618329006080/ZtSbU6cz_normal.jpg',\n",
       "   u'profile_link_color': u'3B94D9',\n",
       "   u'profile_sidebar_border_color': u'000000',\n",
       "   u'profile_sidebar_fill_color': u'000000',\n",
       "   u'profile_text_color': u'000000',\n",
       "   u'profile_use_background_image': False,\n",
       "   u'protected': False,\n",
       "   u'screen_name': u'annafifield',\n",
       "   u'statuses_count': 12827,\n",
       "   u'time_zone': u'Tokyo',\n",
       "   u'translator_type': u'none',\n",
       "   u'url': u'https://t.co/PBr6lJF8tO',\n",
       "   u'utc_offset': 32400,\n",
       "   u'verified': True}}]"
      ]
     },
     "execution_count": 85,
     "metadata": {},
     "output_type": "execute_result"
    }
   ],
   "source": [
    "json.loads(content)"
   ]
  },
  {
   "cell_type": "code",
   "execution_count": 86,
   "metadata": {
    "collapsed": true
   },
   "outputs": [],
   "source": [
    "home_timeline = json.loads(content)"
   ]
  },
  {
   "cell_type": "code",
   "execution_count": 87,
   "metadata": {
    "collapsed": false
   },
   "outputs": [
    {
     "data": {
      "text/plain": [
       "u'[IS\\ub77c\\uc774\\ube0c] \\uc758\\uc790\\uac00 \\ub118\\ub098 \\ubd88\\ud3b8\\ud588\\ub358 #\\ubcf4\\ub78c \\uc774 \\ub204\\uac00 \\uc774\\ub7f0 \\uc758\\uc790 \\uc92c\\ub0d0! \\u3160\\u3160 #\\ud2f0\\uc544\\ub77c #TARA #\\ub760\\uc544\\ubaa8 #tiamo #\\uc1fc\\ucf00\\uc774\\uc2a4 https://t.co/B345wrVUyA'"
      ]
     },
     "execution_count": 87,
     "metadata": {},
     "output_type": "execute_result"
    }
   ],
   "source": [
    "home_timeline[0]['text']"
   ]
  },
  {
   "cell_type": "code",
   "execution_count": 88,
   "metadata": {
    "collapsed": false,
    "scrolled": true
   },
   "outputs": [
    {
     "data": {
      "text/plain": [
       "2"
      ]
     },
     "execution_count": 88,
     "metadata": {},
     "output_type": "execute_result"
    }
   ],
   "source": [
    "len(home_timeline)"
   ]
  },
  {
   "cell_type": "code",
   "execution_count": 90,
   "metadata": {
    "collapsed": false,
    "scrolled": true
   },
   "outputs": [
    {
     "name": "stdout",
     "output_type": "stream",
     "text": [
      "[{u'contributors': None, u'truncated': False, u'text': u'[IS\\ub77c\\uc774\\ube0c] \\uc758\\uc790\\uac00 \\ub118\\ub098 \\ubd88\\ud3b8\\ud588\\ub358 #\\ubcf4\\ub78c \\uc774 \\ub204\\uac00 \\uc774\\ub7f0 \\uc758\\uc790 \\uc92c\\ub0d0! \\u3160\\u3160 #\\ud2f0\\uc544\\ub77c #TARA #\\ub760\\uc544\\ubaa8 #tiamo #\\uc1fc\\ucf00\\uc774\\uc2a4 https://t.co/B345wrVUyA', u'is_quote_status': False, u'in_reply_to_status_id': None, u'id': 796266892486815745L, u'favorite_count': 0, u'source': u'<a href=\"http://twitter.com\" rel=\"nofollow\">Twitter Web Client</a>', u'retweeted': False, u'coordinates': None, u'entities': {u'symbols': [], u'user_mentions': [], u'hashtags': [{u'indices': [20, 23], u'text': u'\\ubcf4\\ub78c'}, {u'indices': [42, 46], u'text': u'\\ud2f0\\uc544\\ub77c'}, {u'indices': [47, 52], u'text': u'TARA'}, {u'indices': [53, 57], u'text': u'\\ub760\\uc544\\ubaa8'}, {u'indices': [58, 64], u'text': u'tiamo'}, {u'indices': [65, 70], u'text': u'\\uc1fc\\ucf00\\uc774\\uc2a4'}], u'urls': [], u'media': [{u'expanded_url': u'https://twitter.com/JTBC_Awards/status/796266892486815745/photo/1', u'display_url': u'pic.twitter.com/B345wrVUyA', u'url': u'https://t.co/B345wrVUyA', u'media_url_https': u'https://pbs.twimg.com/media/CwzoTCPUcAAT-R6.jpg', u'id_str': u'796266647854018560', u'sizes': {u'large': {u'h': 837, u'resize': u'fit', u'w': 530}, u'small': {u'h': 680, u'resize': u'fit', u'w': 431}, u'medium': {u'h': 837, u'resize': u'fit', u'w': 530}, u'thumb': {u'h': 150, u'resize': u'crop', u'w': 150}}, u'indices': [71, 94], u'type': u'photo', u'id': 796266647854018560L, u'media_url': u'http://pbs.twimg.com/media/CwzoTCPUcAAT-R6.jpg'}]}, u'in_reply_to_screen_name': None, u'in_reply_to_user_id': None, u'retweet_count': 0, u'id_str': u'796266892486815745', u'favorited': False, u'user': {u'follow_request_sent': False, u'has_extended_profile': True, u'profile_use_background_image': False, u'default_profile_image': False, u'id': 2924946528L, u'profile_background_image_url_https': u'https://pbs.twimg.com/profile_background_images/560072551037038592/djwOqCsT.jpeg', u'verified': True, u'translator_type': u'none', u'profile_text_color': u'000000', u'profile_image_url_https': u'https://pbs.twimg.com/profile_images/791548595258273792/aSoLk6bW_normal.jpg', u'profile_sidebar_fill_color': u'000000', u'entities': {u'url': {u'urls': [{u'url': u'https://t.co/k3stKR6VTX', u'indices': [0, 23], u'expanded_url': u'http://M.isplus.live.joins.com/', u'display_url': u'M.isplus.live.joins.com'}]}, u'description': {u'urls': []}}, u'followers_count': 39260, u'profile_sidebar_border_color': u'000000', u'id_str': u'2924946528', u'profile_background_color': u'000000', u'listed_count': 101, u'is_translation_enabled': True, u'utc_offset': 32400, u'statuses_count': 2812, u'description': u'\\ubc31\\uc0c1\\uc608\\uc220\\ub300\\uc0c1\\uacfc \\uace8\\ub4e0\\ub514\\uc2a4\\ud06c\\ub97c \\uc8fc\\ucd5c\\ud558\\ub294 \\ucd5c\\uace0\\uc758 \\uc5f0\\uc608\\ub274\\uc2a4 \\uc77c\\uac04\\uc2a4\\ud3ec\\uce20\\uc785\\ub2c8\\ub2e4.', u'friends_count': 93, u'location': u'seoul, korea ', u'profile_link_color': u'DD2E44', u'profile_image_url': u'http://pbs.twimg.com/profile_images/791548595258273792/aSoLk6bW_normal.jpg', u'following': True, u'geo_enabled': False, u'profile_banner_url': u'https://pbs.twimg.com/profile_banners/2924946528/1470126745', u'profile_background_image_url': u'http://pbs.twimg.com/profile_background_images/560072551037038592/djwOqCsT.jpeg', u'screen_name': u'JTBC_Awards', u'lang': u'ko', u'profile_background_tile': False, u'favourites_count': 31, u'name': u'\\uc77c\\uac04\\uc2a4\\ud3ec\\uce20_\\uc5f0\\uc608\\ub274\\uc2a4', u'notifications': False, u'url': u'https://t.co/k3stKR6VTX', u'created_at': u'Wed Dec 10 01:53:15 +0000 2014', u'contributors_enabled': False, u'time_zone': u'Seoul', u'protected': False, u'default_profile': False, u'is_translator': False}, u'geo': None, u'in_reply_to_user_id_str': None, u'possibly_sensitive': False, u'possibly_sensitive_appealable': False, u'lang': u'ko', u'created_at': u'Wed Nov 09 08:23:15 +0000 2016', u'in_reply_to_status_id_str': None, u'place': None, u'extended_entities': {u'media': [{u'expanded_url': u'https://twitter.com/JTBC_Awards/status/796266892486815745/photo/1', u'display_url': u'pic.twitter.com/B345wrVUyA', u'url': u'https://t.co/B345wrVUyA', u'media_url_https': u'https://pbs.twimg.com/media/CwzoTCPUcAAT-R6.jpg', u'id_str': u'796266647854018560', u'sizes': {u'large': {u'h': 837, u'resize': u'fit', u'w': 530}, u'small': {u'h': 680, u'resize': u'fit', u'w': 431}, u'medium': {u'h': 837, u'resize': u'fit', u'w': 530}, u'thumb': {u'h': 150, u'resize': u'crop', u'w': 150}}, u'indices': [71, 94], u'type': u'photo', u'id': 796266647854018560L, u'media_url': u'http://pbs.twimg.com/media/CwzoTCPUcAAT-R6.jpg'}, {u'expanded_url': u'https://twitter.com/JTBC_Awards/status/796266892486815745/photo/1', u'display_url': u'pic.twitter.com/B345wrVUyA', u'url': u'https://t.co/B345wrVUyA', u'media_url_https': u'https://pbs.twimg.com/media/CwzoTxUUUAAnXm_.jpg', u'id_str': u'796266660491448320', u'sizes': {u'small': {u'h': 680, u'resize': u'fit', u'w': 476}, u'large': {u'h': 757, u'resize': u'fit', u'w': 530}, u'medium': {u'h': 757, u'resize': u'fit', u'w': 530}, u'thumb': {u'h': 150, u'resize': u'crop', u'w': 150}}, u'indices': [71, 94], u'type': u'photo', u'id': 796266660491448320L, u'media_url': u'http://pbs.twimg.com/media/CwzoTxUUUAAnXm_.jpg'}, {u'expanded_url': u'https://twitter.com/JTBC_Awards/status/796266892486815745/photo/1', u'display_url': u'pic.twitter.com/B345wrVUyA', u'url': u'https://t.co/B345wrVUyA', u'media_url_https': u'https://pbs.twimg.com/media/CwzoWj6UQAAKRc-.jpg', u'id_str': u'796266708432338944', u'sizes': {u'small': {u'h': 680, u'resize': u'fit', u'w': 403}, u'large': {u'h': 895, u'resize': u'fit', u'w': 530}, u'medium': {u'h': 895, u'resize': u'fit', u'w': 530}, u'thumb': {u'h': 150, u'resize': u'crop', u'w': 150}}, u'indices': [71, 94], u'type': u'photo', u'id': 796266708432338944L, u'media_url': u'http://pbs.twimg.com/media/CwzoWj6UQAAKRc-.jpg'}, {u'expanded_url': u'https://twitter.com/JTBC_Awards/status/796266892486815745/photo/1', u'display_url': u'pic.twitter.com/B345wrVUyA', u'url': u'https://t.co/B345wrVUyA', u'media_url_https': u'https://pbs.twimg.com/media/CwzoXX7VQAABbqE.jpg', u'id_str': u'796266722395242496', u'sizes': {u'large': {u'h': 834, u'resize': u'fit', u'w': 530}, u'small': {u'h': 680, u'resize': u'fit', u'w': 432}, u'medium': {u'h': 834, u'resize': u'fit', u'w': 530}, u'thumb': {u'h': 150, u'resize': u'crop', u'w': 150}}, u'indices': [71, 94], u'type': u'photo', u'id': 796266722395242496L, u'media_url': u'http://pbs.twimg.com/media/CwzoXX7VQAABbqE.jpg'}]}}, {u'contributors': None, u'truncated': True, u'text': u\"On this long and surprising day, it's been wonderful to have the wise @NormOrnstein beaming into my Tokyo living ro\\u2026 https://t.co/cXbv6HUpKq\", u'is_quote_status': False, u'in_reply_to_status_id': None, u'id': 796266501812592641L, u'favorite_count': 2, u'source': u'<a href=\"http://twitter.com/download/iphone\" rel=\"nofollow\">Twitter for iPhone</a>', u'retweeted': False, u'coordinates': None, u'entities': {u'symbols': [], u'user_mentions': [{u'id': 2223157392L, u'indices': [70, 83], u'id_str': u'2223157392', u'screen_name': u'NormOrnstein', u'name': u'Norman Ornstein'}], u'hashtags': [], u'urls': [{u'url': u'https://t.co/cXbv6HUpKq', u'indices': [117, 140], u'expanded_url': u'https://twitter.com/i/web/status/796266501812592641', u'display_url': u'twitter.com/i/web/status/7\\u2026'}]}, u'in_reply_to_screen_name': None, u'in_reply_to_user_id': None, u'retweet_count': 2, u'id_str': u'796266501812592641', u'favorited': False, u'user': {u'follow_request_sent': False, u'has_extended_profile': False, u'profile_use_background_image': False, u'default_profile_image': False, u'id': 65905779, u'profile_background_image_url_https': u'https://abs.twimg.com/images/themes/theme1/bg.png', u'verified': True, u'translator_type': u'none', u'profile_text_color': u'000000', u'profile_image_url_https': u'https://pbs.twimg.com/profile_images/691449618329006080/ZtSbU6cz_normal.jpg', u'profile_sidebar_fill_color': u'000000', u'entities': {u'url': {u'urls': [{u'url': u'https://t.co/PBr6lJF8tO', u'indices': [0, 23], u'expanded_url': u'https://www.washingtonpost.com/people/anna-fifield/', u'display_url': u'washingtonpost.com/people/anna-fi\\u2026'}]}, u'description': {u'urls': []}}, u'followers_count': 19163, u'profile_sidebar_border_color': u'000000', u'id_str': u'65905779', u'profile_background_color': u'000000', u'listed_count': 800, u'is_translation_enabled': False, u'utc_offset': 32400, u'statuses_count': 12827, u'description': u'Tokyo bureau chief for the @WashingtonPost, focusing on Japan and the Koreas.', u'friends_count': 1158, u'location': u'anna.fifield@washpost.com', u'profile_link_color': u'3B94D9', u'profile_image_url': u'http://pbs.twimg.com/profile_images/691449618329006080/ZtSbU6cz_normal.jpg', u'following': True, u'geo_enabled': True, u'profile_banner_url': u'https://pbs.twimg.com/profile_banners/65905779/1463016417', u'profile_background_image_url': u'http://abs.twimg.com/images/themes/theme1/bg.png', u'screen_name': u'annafifield', u'lang': u'en', u'profile_background_tile': False, u'favourites_count': 3507, u'name': u'Anna Fifield', u'notifications': False, u'url': u'https://t.co/PBr6lJF8tO', u'created_at': u'Sat Aug 15 14:21:50 +0000 2009', u'contributors_enabled': False, u'time_zone': u'Tokyo', u'protected': False, u'default_profile': False, u'is_translator': False}, u'geo': None, u'in_reply_to_user_id_str': None, u'possibly_sensitive': False, u'possibly_sensitive_appealable': False, u'lang': u'en', u'created_at': u'Wed Nov 09 08:21:42 +0000 2016', u'in_reply_to_status_id_str': None, u'place': None}]\n"
     ]
    }
   ],
   "source": [
    "print home_timeline"
   ]
  },
  {
   "cell_type": "code",
   "execution_count": 3,
   "metadata": {
    "collapsed": false
   },
   "outputs": [
    {
     "ename": "NameError",
     "evalue": "name 'home_timeline' is not defined",
     "output_type": "error",
     "traceback": [
      "\u001b[0;31m---------------------------------------------------------------------------\u001b[0m",
      "\u001b[0;31mNameError\u001b[0m                                 Traceback (most recent call last)",
      "\u001b[0;32m<ipython-input-3-984be05ce0e8>\u001b[0m in \u001b[0;36m<module>\u001b[0;34m()\u001b[0m\n\u001b[0;32m----> 1\u001b[0;31m \u001b[1;32mfor\u001b[0m \u001b[0mtweet\u001b[0m \u001b[1;32min\u001b[0m \u001b[0mhome_timeline\u001b[0m\u001b[1;33m:\u001b[0m\u001b[1;33m\u001b[0m\u001b[0m\n\u001b[0m\u001b[1;32m      2\u001b[0m     \u001b[1;32mprint\u001b[0m \u001b[0mtweet\u001b[0m\u001b[1;33m[\u001b[0m\u001b[1;34m'id'\u001b[0m\u001b[1;33m]\u001b[0m\u001b[1;33m,\u001b[0m\u001b[0mtweet\u001b[0m\u001b[1;33m[\u001b[0m\u001b[1;34m'text'\u001b[0m\u001b[1;33m]\u001b[0m\u001b[1;33m\u001b[0m\u001b[0m\n\u001b[1;32m      3\u001b[0m     \u001b[0m_col\u001b[0m\u001b[1;33m.\u001b[0m\u001b[0minsert_one\u001b[0m\u001b[1;33m(\u001b[0m\u001b[0mtweet\u001b[0m\u001b[1;33m)\u001b[0m\u001b[1;33m\u001b[0m\u001b[0m\n",
      "\u001b[0;31mNameError\u001b[0m: name 'home_timeline' is not defined"
     ]
    }
   ],
   "source": [
    "for tweet in home_timeline:\n",
    "    print tweet['id'],tweet['text']\n",
    "    _col.insert_one(tweet)"
   ]
  },
  {
   "cell_type": "markdown",
   "metadata": {
    "collapsed": true
   },
   "source": [
    "## T-3 'seoul' 10개 검색"
   ]
  },
  {
   "cell_type": "markdown",
   "metadata": {},
   "source": [
    "## Twitter 사용"
   ]
  },
  {
   "cell_type": "code",
   "execution_count": 11,
   "metadata": {
    "collapsed": true
   },
   "outputs": [],
   "source": [
    "def getApiKey(keyPath):\n",
    "    d=dict()\n",
    "    f=open(KeyPath, 'r')\n",
    "    for line in f.readlines():\n",
    "        row=line.split('=')\n",
    "        if(row[0]!='debug'):\n",
    "            row0=row[0].split('.')\n",
    "            d[row0[1].upper()]=row[1].strip()\n",
    "    return d"
   ]
  },
  {
   "cell_type": "code",
   "execution_count": 12,
   "metadata": {
    "collapsed": true
   },
   "outputs": [],
   "source": [
    "import os\n",
    "keyPath=os.path.join(os.getcwd(), 'src', 'twitter.properties')\n",
    "\n",
    "f=open(keyPath,'r')\n",
    "lines=f.readlines()\n",
    "\n",
    "def getKey(keyPath):\n",
    "    d=dict()\n",
    "    f=open(keyPath,'r')\n",
    "    lines=f.readlines()\n",
    "    for line in lines:\n",
    "        row=line.split('=')\n",
    "        row0=row[0]\n",
    "        d[row0]=row[1].strip()\n",
    "    return d\n",
    "\n",
    "key=getKey(keyPath)"
   ]
  },
  {
   "cell_type": "code",
   "execution_count": 13,
   "metadata": {
    "collapsed": false
   },
   "outputs": [
    {
     "data": {
      "text/plain": [
       "'C:\\\\Users\\\\da_yo'"
      ]
     },
     "execution_count": 13,
     "metadata": {},
     "output_type": "execute_result"
    }
   ],
   "source": [
    "import os\n",
    "os.path.expanduser(\"~\")"
   ]
  },
  {
   "cell_type": "code",
   "execution_count": 14,
   "metadata": {
    "collapsed": false
   },
   "outputs": [
    {
     "name": "stdout",
     "output_type": "stream",
     "text": [
      "<twitter.api.Twitter object at 0x0000000004735588>\n"
     ]
    }
   ],
   "source": [
    "import twitter\n",
    "\n",
    "auth = twitter.oauth.OAuth(key['ACCESSTOKEN'],key['ACCESSTOKENSECRET'],\n",
    "                            key['CONSUMERKEY'], key['CONSUMERSECRET'])\n",
    "_client = twitter.Twitter(auth=auth)\n",
    "print _client"
   ]
  },
  {
   "cell_type": "code",
   "execution_count": 15,
   "metadata": {
    "collapsed": true
   },
   "outputs": [],
   "source": [
    "q = '#seoul'\n",
    "count = 10\n",
    "\n",
    "search_results= _client.search.tweets(q=q, count=count)\n",
    "statuses = search_results['statuses']"
   ]
  },
  {
   "cell_type": "code",
   "execution_count": 16,
   "metadata": {
    "collapsed": false
   },
   "outputs": [
    {
     "name": "stdout",
     "output_type": "stream",
     "text": [
      "10\n",
      "<type 'list'>\n"
     ]
    }
   ],
   "source": [
    "print len(statuses)\n",
    "print type(statuses)"
   ]
  },
  {
   "cell_type": "code",
   "execution_count": 17,
   "metadata": {
    "collapsed": false
   },
   "outputs": [
    {
     "name": "stdout",
     "output_type": "stream",
     "text": [
      "[u'contributors', u'truncated', u'text', u'is_quote_status', u'in_reply_to_status_id', u'id', u'favorite_count', u'entities', u'retweeted', u'coordinates', u'source', u'in_reply_to_screen_name', u'in_reply_to_user_id', u'retweet_count', u'id_str', u'favorited', u'user', u'geo', u'in_reply_to_user_id_str', u'possibly_sensitive', u'lang', u'created_at', u'in_reply_to_status_id_str', u'place', u'extended_entities', u'metadata']\n"
     ]
    }
   ],
   "source": [
    "print statuses[0].keys()"
   ]
  },
  {
   "cell_type": "markdown",
   "metadata": {},
   "source": [
    "## Ouath 사용"
   ]
  },
  {
   "cell_type": "code",
   "execution_count": 18,
   "metadata": {
    "collapsed": false
   },
   "outputs": [],
   "source": [
    "import oauth2 as oauth\n",
    "import json\n",
    "\n",
    "consumer = oauth.Consumer(key=key['CONSUMERKEY'], secret=key['CONSUMERSECRET'])\n",
    "token=oauth.Token(key=key['ACCESSTOKEN'], secret=key['ACCESSTOKENSECRET'])"
   ]
  },
  {
   "cell_type": "code",
   "execution_count": 19,
   "metadata": {
    "collapsed": false
   },
   "outputs": [],
   "source": [
    "client = oauth.Client(consumer, token)"
   ]
  },
  {
   "cell_type": "code",
   "execution_count": 20,
   "metadata": {
    "collapsed": false
   },
   "outputs": [
    {
     "name": "stdout",
     "output_type": "stream",
     "text": [
      "Help on method request in module oauth2:\n",
      "\n",
      "request(self, uri, method='GET', body='', headers=None, redirections=5, connection_type=None) method of oauth2.Client instance\n",
      "\n"
     ]
    }
   ],
   "source": [
    "help(client.request)"
   ]
  },
  {
   "cell_type": "code",
   "execution_count": 21,
   "metadata": {
    "collapsed": false
   },
   "outputs": [],
   "source": [
    "import urllib\n",
    "url1 = \"https://api.twitter.com/1.1/search/tweets.json\"\n",
    "myparam={'q':'seoul','count':20}\n",
    "mybody=urllib.urlencode(myparam)\n",
    "\n",
    "resp, tsearch = client.request(url1+\"?\"+mybody, method=\"GET\")\n",
    "tsearch_json = json.loads(tsearch)"
   ]
  },
  {
   "cell_type": "code",
   "execution_count": 22,
   "metadata": {
    "collapsed": false
   },
   "outputs": [
    {
     "name": "stdout",
     "output_type": "stream",
     "text": [
      "<type 'dict'>\n",
      "[u'search_metadata', u'statuses']\n",
      "20\n"
     ]
    }
   ],
   "source": [
    "print type(tsearch_json)\n",
    "print tsearch_json.keys()\n",
    "print len(tsearch_json['statuses'])"
   ]
  },
  {
   "cell_type": "code",
   "execution_count": 23,
   "metadata": {
    "collapsed": false
   },
   "outputs": [
    {
     "data": {
      "text/plain": [
       "27"
      ]
     },
     "execution_count": 23,
     "metadata": {},
     "output_type": "execute_result"
    }
   ],
   "source": [
    "len(tsearch_json['statuses'][0])"
   ]
  },
  {
   "cell_type": "code",
   "execution_count": 24,
   "metadata": {
    "collapsed": false
   },
   "outputs": [
    {
     "ename": "NameError",
     "evalue": "name 'i' is not defined",
     "output_type": "error",
     "traceback": [
      "\u001b[0;31m---------------------------------------------------------------------------\u001b[0m",
      "\u001b[0;31mNameError\u001b[0m                                 Traceback (most recent call last)",
      "\u001b[0;32m<ipython-input-24-9b291a9dc232>\u001b[0m in \u001b[0;36m<module>\u001b[0;34m()\u001b[0m\n\u001b[1;32m      1\u001b[0m \u001b[1;32mfor\u001b[0m \u001b[0mI\u001b[0m \u001b[1;32min\u001b[0m \u001b[0mrange\u001b[0m\u001b[1;33m(\u001b[0m\u001b[1;36m1\u001b[0m\u001b[1;33m,\u001b[0m\u001b[1;36m5\u001b[0m\u001b[1;33m)\u001b[0m\u001b[1;33m:\u001b[0m\u001b[1;33m\u001b[0m\u001b[0m\n\u001b[0;32m----> 2\u001b[0;31m     \u001b[1;32mprint\u001b[0m \u001b[0mi\u001b[0m\u001b[1;33m\u001b[0m\u001b[0m\n\u001b[0m",
      "\u001b[0;31mNameError\u001b[0m: name 'i' is not defined"
     ]
    }
   ],
   "source": [
    "for I in range(1,5):\n",
    "    print i"
   ]
  },
  {
   "cell_type": "code",
   "execution_count": 25,
   "metadata": {
    "collapsed": false,
    "scrolled": true
   },
   "outputs": [
    {
     "name": "stdout",
     "output_type": "stream",
     "text": [
      "[0]\t798796935876358147\tSyifα Rizki Nαbillα:RT @Infinite7Facts: [VIDEO] 161116 Amanti Hotel Seoul Instagram Update - #인피니트 \n",
      "https://t.co/VbOggsAWHg https://t.co/JdyIFDf0Xo\n",
      "[1]\t798796907183149057\tU C I:RT @KoreanWaveINA: [INFO] EXO, TWICE, Red Velvet &amp; Taeyeon SNSD dikonfirmasi hadir di '2016 Melon Music Awards' 19 Nov di Gocheok Sky Dome…\n",
      "[2]\t798796892939223042\t서울 23:@Gkmj824 @ocazndom1 넌.... 안될거야\n",
      "[3]\t798796890561081344\t왕만두 (alexis):@Always__xiumin I wish I was in Seoul rn so I can look at this mess\n",
      "[4]\t798796865554632704\tanna ❌ #Noir:@DaeniiiTae he changes every 0.1 seconds this is illegal 😂\n",
      "[5]\t798796843081613312\tYoo Jin Han:RT @YonhapNews: Seoul's Gangnam Ward rises as mecca of startups: survey https://t.co/Mluzy6WsWr\n",
      "[6]\t798796802459717633\te)(o:RT @realmegda: NICE!!! Should I go for Tokyo or Seoul??? Have no problem with schedule tho 😂💃 https://t.co/xdNWr5QguC\n",
      "[7]\t798796789549674496\tแทแทสีทอง:RT @TheSoneSource: 161112 Seohyun - Michael Kors Young Korea Party in Seoul,\n",
      "[3298x4947] HQ\n",
      "https://t.co/Juv2rKahcx\n",
      "https://t.co/Y1grgomTth…\n",
      "[8]\t798796763725316096\tSTORYBYwks:294. Selanjutkan Aku dan Mama pindah ke daerah Myeong-dong dan menginap di The Shilla Seoul. Kami menghabiskan 4 malam di sana.\n",
      "[9]\t798796745442365440\tstaystrong☔️:RT @BTS_Thailand: แนวทางในการคว้ารางวัล Daesangในงาน Seoul Music Awards เตรียมรอโหวตกันด้วยนะคะ เปิดโหวต 25 พ.ย.นี้ https://t.co/yZbIgCrXVC…\n",
      "[10]\t798796737708052480\t서울 23:@pongpongk001 빨아보고 싶게 생긴 좆이드..\n",
      "[11]\t798796699229523969\talya adriana:RT @AirAsia: KL - Seoul RM499\n",
      "KL - Mauritius RM499\n",
      "KL - Sydney RM499\n",
      "KL - Sapporo RM499\n",
      "\n",
      "Book today @ https://t.co/bfq1lMacnD\n",
      "Travel now ti…\n",
      "[12]\t798796667591872512\tV-chan:@HeadlN_theStars gank my oppa for me in seoul tyty\n",
      "[13]\t798796654019158016\tHoward Baggott:Here at the #IETF97 plenary in Seoul with Yi Zhao of #Huawei our host. \n",
      "\n",
      "Next stop #IETF98 #Chicago \n",
      "\n",
      "Get involved… https://t.co/NflyO21KAn\n",
      "[14]\t798796644909137920\tnad:RT @shbkhyun: how can ppl ever come at EXO and EXO-Ls when EXO literally has a WHOLE building in Seoul dedicated to them where koreans call…\n",
      "[15]\t798796634649858049\tDwinanda Safitri:RT @KoreanWaveINA: [INFO] EXO, TWICE, Red Velvet &amp; Taeyeon SNSD dikonfirmasi hadir di '2016 Melon Music Awards' 19 Nov di Gocheok Sky Dome…\n",
      "[16]\t798796605084184577\t#ILOVETAEHYUNG:RT @KBSWorldTV: This cute girl is from 'Love in the Moonlight', &amp; now she is back again with our new drama 'My Fair Lady'! Tomorrow at 9:50…\n",
      "[17]\t798796600663416832\tnad:RT @shbkhyun: how can people ever come at EXO and EXO-Ls when EXO literally the only band who has SOLD OUT fucking big ass Seoul Stadium fo…\n",
      "[18]\t798796575124254720\tปวีศรี .:RT @HistoryToLearn: Seoul, 1968 https://t.co/qwM7dsZCMU\n",
      "[19]\t798796569550032896\tHK Kim:힐튼그랜드베케이션 포인트를 힐튼호텔 아너스 포인트로 바꿔 효과적으로 사용하기&lt;가격비교가능&gt;(출처 : www.timesh.. | https://t.co/AbI8an3spn 블로그) https://t.co/67Oj1FfmS7\n"
     ]
    }
   ],
   "source": [
    "for i,tweet in enumerate(tsearch_json['statuses']):\n",
    "    #print tweet[u'user'][u'name']\n",
    "    print \"[%d]\\t%d\\t%s:%s\" % (i,tweet['id'],tweet['user']['name'],tweet['text'])"
   ]
  },
  {
   "cell_type": "markdown",
   "metadata": {
    "collapsed": true
   },
   "source": [
    "## T-3"
   ]
  },
  {
   "cell_type": "code",
   "execution_count": 1,
   "metadata": {
    "collapsed": true
   },
   "outputs": [],
   "source": [
    "import urllib\n",
    "url = \"https://api.twitter.com/1.1/search/tweets.json\""
   ]
  },
  {
   "cell_type": "code",
   "execution_count": 2,
   "metadata": {
    "collapsed": true
   },
   "outputs": [],
   "source": [
    "myparam={'q':'seoul','count':200,'since_id':'795413969716396032'}"
   ]
  },
  {
   "cell_type": "code",
   "execution_count": 3,
   "metadata": {
    "collapsed": true
   },
   "outputs": [],
   "source": [
    "mybody=urllib.urlencode(myparam)"
   ]
  },
  {
   "cell_type": "code",
   "execution_count": 4,
   "metadata": {
    "collapsed": false
   },
   "outputs": [
    {
     "ename": "NameError",
     "evalue": "name 'oauth' is not defined",
     "output_type": "error",
     "traceback": [
      "\u001b[0;31m---------------------------------------------------------------------------\u001b[0m",
      "\u001b[0;31mNameError\u001b[0m                                 Traceback (most recent call last)",
      "\u001b[0;32m<ipython-input-4-59309229ab52>\u001b[0m in \u001b[0;36m<module>\u001b[0;34m()\u001b[0m\n\u001b[0;32m----> 1\u001b[0;31m \u001b[0mclient\u001b[0m \u001b[1;33m=\u001b[0m \u001b[0moauth\u001b[0m\u001b[1;33m.\u001b[0m\u001b[0mClient\u001b[0m\u001b[1;33m(\u001b[0m\u001b[0mconsumer\u001b[0m\u001b[1;33m,\u001b[0m \u001b[0mtoken\u001b[0m\u001b[1;33m)\u001b[0m\u001b[1;33m\u001b[0m\u001b[0m\n\u001b[0m",
      "\u001b[0;31mNameError\u001b[0m: name 'oauth' is not defined"
     ]
    }
   ],
   "source": [
    "client = oauth.Client(consumer, token)"
   ]
  },
  {
   "cell_type": "code",
   "execution_count": 30,
   "metadata": {
    "collapsed": false
   },
   "outputs": [],
   "source": [
    "response, content = client.request(url+\"?\"+mybody, method=\"GET\")"
   ]
  },
  {
   "cell_type": "code",
   "execution_count": 31,
   "metadata": {
    "collapsed": true
   },
   "outputs": [],
   "source": [
    "tsearch_json = json.loads(content)"
   ]
  },
  {
   "cell_type": "code",
   "execution_count": 33,
   "metadata": {
    "collapsed": false
   },
   "outputs": [
    {
     "name": "stdout",
     "output_type": "stream",
     "text": [
      "2\n"
     ]
    }
   ],
   "source": [
    "print len(tsearch_json)"
   ]
  },
  {
   "cell_type": "code",
   "execution_count": 34,
   "metadata": {
    "collapsed": false,
    "scrolled": true
   },
   "outputs": [
    {
     "name": "stdout",
     "output_type": "stream",
     "text": [
      "100\n"
     ]
    }
   ],
   "source": [
    "print len(tsearch_json['statuses'])"
   ]
  },
  {
   "cell_type": "code",
   "execution_count": 41,
   "metadata": {
    "collapsed": false,
    "scrolled": true
   },
   "outputs": [
    {
     "data": {
      "text/plain": [
       "798795087706628095L"
      ]
     },
     "execution_count": 41,
     "metadata": {},
     "output_type": "execute_result"
    }
   ],
   "source": [
    "tsearch_json['statuses'][-1]['id']-1"
   ]
  },
  {
   "cell_type": "code",
   "execution_count": null,
   "metadata": {
    "collapsed": true
   },
   "outputs": [],
   "source": []
  },
  {
   "cell_type": "code",
   "execution_count": 38,
   "metadata": {
    "collapsed": false,
    "scrolled": true
   },
   "outputs": [
    {
     "name": "stdout",
     "output_type": "stream",
     "text": [
      "1 798797029539344385\n",
      "1 798797003727638528\n",
      "1 798796992881143808\n",
      "1 798796981271306246\n",
      "1 798796980524695553\n",
      "1 798796972761096192\n",
      "1 798796961373532160\n",
      "1 798796935876358147\n",
      "1 798796907183149057\n",
      "1 798796892939223042\n",
      "1 798796890561081344\n",
      "1 798796865554632704\n",
      "1 798796843081613312\n",
      "1 798796802459717633\n",
      "1 798796789549674496\n",
      "1 798796763725316096\n",
      "1 798796745442365440\n",
      "1 798796737708052480\n",
      "1 798796699229523969\n",
      "1 798796667591872512\n",
      "1 798796654019158016\n",
      "1 798796644909137920\n",
      "1 798796634649858049\n",
      "1 798796605084184577\n",
      "1 798796600663416832\n",
      "1 798796575124254720\n",
      "1 798796569550032896\n",
      "1 798796538973564928\n",
      "1 798796532405256192\n",
      "1 798796530719203328\n",
      "1 798796512364896263\n",
      "1 798796491288494080\n",
      "1 798796446120046593\n",
      "1 798796379447377920\n",
      "1 798796372921106432\n",
      "1 798796352847126528\n",
      "1 798796341916766208\n",
      "1 798796330671837184\n",
      "1 798796315123585026\n",
      "1 798796308429434880\n",
      "1 798796301999607810\n",
      "1 798796292772106241\n",
      "1 798796287726395392\n",
      "1 798796238682341376\n",
      "1 798796206973423616\n",
      "1 798796149125545984\n",
      "1 798796147145871360\n",
      "1 798796143744327680\n",
      "1 798796111469129729\n",
      "1 798796096654843909\n",
      "1 798796055735173120\n",
      "1 798796031542427649\n",
      "1 798796015285334016\n",
      "1 798796006301188097\n",
      "1 798795983446360064\n",
      "1 798795941868253184\n",
      "1 798795940609933312\n",
      "1 798795918220795904\n",
      "1 798795888441237504\n",
      "1 798795851380314112\n",
      "1 798795835118977024\n",
      "1 798795811068919808\n",
      "1 798795794581073920\n",
      "1 798795792433618944\n",
      "1 798795788931371008\n",
      "1 798795784820953088\n",
      "1 798795774775599104\n",
      "1 798795723886116864\n",
      "1 798795720618741760\n",
      "1 798795696874758144\n",
      "1 798795695146737667\n",
      "1 798795679489347586\n",
      "1 798795576489844736\n",
      "1 798795565790150656\n",
      "1 798795564267671552\n",
      "1 798795557049233408\n",
      "1 798795528846745600\n",
      "1 798795527609466880\n",
      "1 798795512673542144\n",
      "1 798795496651243520\n",
      "1 798795420734398464\n",
      "1 798795408445042693\n",
      "1 798795364673273856\n",
      "1 798795338156908544\n",
      "1 798795321954344960\n",
      "1 798795311971897344\n",
      "1 798795279747010560\n",
      "1 798795275921858560\n",
      "1 798795238382764033\n",
      "1 798795195760328706\n",
      "1 798795183118688256\n",
      "1 798795182372073472\n",
      "1 798795178777526272\n",
      "1 798795164214915072\n",
      "1 798795145202126848\n",
      "1 798795140571676673\n",
      "1 798795118555738112\n",
      "1 798795105528184832\n",
      "1 798795103401693184\n",
      "1 798795087706628096\n"
     ]
    }
   ],
   "source": [
    "f=open('ds_twitter_3.txt','w')\n",
    "for i,tweet in enumerate(tsearch_json['statuses']):\n",
    "    print I, tweet['id']\n",
    "    j=json.dumps([I,tweet['id']])\n",
    "    f.write(j)\n",
    "f.close()"
   ]
  },
  {
   "cell_type": "code",
   "execution_count": 44,
   "metadata": {
    "collapsed": false
   },
   "outputs": [
    {
     "name": "stdout",
     "output_type": "stream",
     "text": [
      "10\n",
      "798800033923534847\n",
      "10\n",
      "798799869850710015\n",
      "10\n",
      "798799744403316735\n",
      "10\n",
      "798799442153336831\n",
      "10\n",
      "798799220329168899\n",
      "9\n",
      "798798836944617471\n",
      "10\n",
      "798798700357160959\n",
      "10\n",
      "798798580899164159\n",
      "10\n",
      "798798455887929343\n",
      "10\n",
      "798798331778506751\n",
      "10\n",
      "798798114249289727\n",
      "10\n",
      "798798016152883199\n",
      "10\n",
      "798797807926722560\n",
      "10\n",
      "798797700628029440\n",
      "10\n",
      "798797569958625279\n",
      "10\n",
      "798797425548791808\n",
      "10\n",
      "798797338068140031\n",
      "10\n",
      "798797120593481727\n",
      "10\n",
      "798796972761096191\n",
      "10\n",
      "798796763725316095\n"
     ]
    }
   ],
   "source": [
    "prev_id=None\n",
    "f=open('_todel3.txt','a')\n",
    "for i in range(0,20):\n",
    "    myparam={'q':'seoul','count':10,'max_id':prev_id}\n",
    "    mybody=urllib.urlencode(myparam)\n",
    "    response, content = client.request(url+\"?\"+mybody, method=\"GET\")\n",
    "    tsearch_json = json.loads(content)\n",
    "    print len(tsearch_json['statuses'])\n",
    "    for i,tweet in enumerate(tsearch_json['statuses']):\n",
    "        #print str(i),tweet['id'],tweet['user']['name'],tweet['text']\n",
    "        f.write(json.dumps([str(i),tweet['id'],tweet['user']['name']]))\n",
    "        f.write(\"\\n\")\n",
    "    #if data[\"statuses\"] == []:\n",
    "    #    print \"end of data\"\n",
    "    #    break\n",
    "    #else:\n",
    "    prev_id=int(tsearch_json['statuses'][-1]['id'])-1\n",
    "    print prev_id\n",
    "f.close()"
   ]
  },
  {
   "cell_type": "markdown",
   "metadata": {},
   "source": [
    "## T-5 Follower"
   ]
  },
  {
   "cell_type": "code",
   "execution_count": 5,
   "metadata": {
    "collapsed": false
   },
   "outputs": [
    {
     "ename": "NameError",
     "evalue": "name 'client' is not defined",
     "output_type": "error",
     "traceback": [
      "\u001b[0;31m---------------------------------------------------------------------------\u001b[0m",
      "\u001b[0;31mNameError\u001b[0m                                 Traceback (most recent call last)",
      "\u001b[0;32m<ipython-input-5-b735373e072b>\u001b[0m in \u001b[0;36m<module>\u001b[0;34m()\u001b[0m\n\u001b[1;32m      2\u001b[0m \u001b[0murl\u001b[0m \u001b[1;33m=\u001b[0m \u001b[1;34m\"https://api.twitter.com/1.1/followers/list.json\"\u001b[0m\u001b[1;33m\u001b[0m\u001b[0m\n\u001b[1;32m      3\u001b[0m \u001b[1;33m\u001b[0m\u001b[0m\n\u001b[0;32m----> 4\u001b[0;31m \u001b[0mresponse\u001b[0m\u001b[1;33m,\u001b[0m \u001b[0mcontent\u001b[0m \u001b[1;33m=\u001b[0m \u001b[0mclient\u001b[0m\u001b[1;33m.\u001b[0m\u001b[0mrequest\u001b[0m\u001b[1;33m(\u001b[0m\u001b[0murl\u001b[0m\u001b[1;33m,\u001b[0m \u001b[0mmethod\u001b[0m\u001b[1;33m=\u001b[0m\u001b[1;34m\"GET\"\u001b[0m\u001b[1;33m)\u001b[0m\u001b[1;33m\u001b[0m\u001b[0m\n\u001b[0m\u001b[1;32m      5\u001b[0m \u001b[0mtfollower_json\u001b[0m \u001b[1;33m=\u001b[0m \u001b[0mjson\u001b[0m\u001b[1;33m.\u001b[0m\u001b[0mloads\u001b[0m\u001b[1;33m(\u001b[0m\u001b[0mcontent\u001b[0m\u001b[1;33m)\u001b[0m\u001b[1;33m\u001b[0m\u001b[0m\n",
      "\u001b[0;31mNameError\u001b[0m: name 'client' is not defined"
     ]
    }
   ],
   "source": [
    "import urllib\n",
    "url = \"https://api.twitter.com/1.1/followers/list.json\"\n",
    "\n",
    "response, content = client.request(url, method=\"GET\")\n",
    "tfollower_json = json.loads(content)"
   ]
  },
  {
   "cell_type": "code",
   "execution_count": 46,
   "metadata": {
    "collapsed": false
   },
   "outputs": [
    {
     "name": "stdout",
     "output_type": "stream",
     "text": [
      "5\n"
     ]
    }
   ],
   "source": [
    "print len(tfollower_json)"
   ]
  },
  {
   "cell_type": "code",
   "execution_count": 49,
   "metadata": {
    "collapsed": false
   },
   "outputs": [
    {
     "name": "stdout",
     "output_type": "stream",
     "text": [
      "<type 'dict'>\n"
     ]
    }
   ],
   "source": [
    "print type(tfollower_json)"
   ]
  },
  {
   "cell_type": "code",
   "execution_count": 51,
   "metadata": {
    "collapsed": true
   },
   "outputs": [],
   "source": [
    "for i in tfollower_json['users']:\n",
    "    print i['id'],i['screen_name']"
   ]
  },
  {
   "cell_type": "code",
   "execution_count": null,
   "metadata": {
    "collapsed": true
   },
   "outputs": [],
   "source": []
  }
 ],
 "metadata": {
  "anaconda-cloud": {},
  "kernelspec": {
   "display_name": "Python [conda root]",
   "language": "python",
   "name": "conda-root-py"
  },
  "language_info": {
   "codemirror_mode": {
    "name": "ipython",
    "version": 2
   },
   "file_extension": ".py",
   "mimetype": "text/x-python",
   "name": "python",
   "nbconvert_exporter": "python",
   "pygments_lexer": "ipython2",
   "version": "2.7.12"
  }
 },
 "nbformat": 4,
 "nbformat_minor": 1
}
