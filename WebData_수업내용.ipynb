{
 "cells": [
  {
   "cell_type": "code",
   "execution_count": 26,
   "metadata": {
    "collapsed": false,
    "scrolled": true
   },
   "outputs": [
    {
     "name": "stdout",
     "output_type": "stream",
     "text": [
      "Overwriting mypage.html\n"
     ]
    }
   ],
   "source": [
    "%%writefile mypage.html\n",
    "<!DOCTYPE html>\n",
    "<html>\n",
    "<head>\n",
    "<title>My Home Page</title>\n",
    "</head>\n",
    "<body>\n",
    "<h1>안녕하십니까</h1>\n",
    "<p>오늘은 프로그래밍 하는 날...</p>\n",
    "<p>Today we do programming...</p>\n",
    "</body>\n",
    "</html>"
   ]
  },
  {
   "cell_type": "code",
   "execution_count": 28,
   "metadata": {
    "collapsed": false
   },
   "outputs": [
    {
     "data": {
      "text/plain": [
       "True"
      ]
     },
     "execution_count": 28,
     "metadata": {},
     "output_type": "execute_result"
    }
   ],
   "source": [
    "import webbrowser\n",
    "import os\n",
    "\n",
    "myuri='file://'+'localhost'+os.path.join(os.getcwd(), 'mypage.html')\n",
    "webbrowser.open(myuri)"
   ]
  },
  {
   "cell_type": "code",
   "execution_count": 30,
   "metadata": {
    "collapsed": false
   },
   "outputs": [
    {
     "name": "stdout",
     "output_type": "stream",
     "text": [
      "Overwriting mypage.html\n"
     ]
    }
   ],
   "source": [
    "%%writefile mypage.html\n",
    "<!DOCTYPE html>\n",
    "<html>\n",
    "<head>\n",
    "<meta charset=\"UTF-8\">\n",
    "<title>My Home Page</title>\n",
    "</head>\n",
    "<body>\n",
    "<h1>안녕하십니까</h1>\n",
    "<p>오늘은 프로그래밍 하는 날...</p>\n",
    "<p>Today we do programming...</p>\n",
    "</body>\n",
    "</html>"
   ]
  },
  {
   "cell_type": "code",
   "execution_count": 32,
   "metadata": {
    "collapsed": false
   },
   "outputs": [
    {
     "data": {
      "text/plain": [
       "True"
      ]
     },
     "execution_count": 32,
     "metadata": {},
     "output_type": "execute_result"
    }
   ],
   "source": [
    "webbrowser.open(myuri)"
   ]
  },
  {
   "cell_type": "code",
   "execution_count": 33,
   "metadata": {
    "collapsed": false,
    "scrolled": true
   },
   "outputs": [
    {
     "data": {
      "text/html": [
       "<!DOCTYPE html>\n",
       "<html>\n",
       "<head>\n",
       "<title>My Home Page</title>\n",
       "</head>\n",
       "<body>\n",
       "<h1>안녕하십니까</h1>\n",
       "<p>오늘은 프로그래밍 하는 날...</p>\n",
       "<p>Today we do programming...</p>\n",
       "</body>\n",
       "</html>"
      ],
      "text/plain": [
       "<IPython.core.display.HTML object>"
      ]
     },
     "metadata": {},
     "output_type": "display_data"
    }
   ],
   "source": [
    "%%HTML\n",
    "<!DOCTYPE html>\n",
    "<html>\n",
    "<head>\n",
    "<title>My Home Page</title>\n",
    "</head>\n",
    "<body>\n",
    "<h1>안녕하십니까</h1>\n",
    "<p>오늘은 프로그래밍 하는 날...</p>\n",
    "<p>Today we do programming...</p>\n",
    "</body>\n",
    "</html>"
   ]
  },
  {
   "cell_type": "code",
   "execution_count": 39,
   "metadata": {
    "collapsed": false
   },
   "outputs": [
    {
     "data": {
      "text/plain": [
       "True"
      ]
     },
     "execution_count": 39,
     "metadata": {},
     "output_type": "execute_result"
    }
   ],
   "source": [
    "import webbrowser\n",
    "myurl='https://www.google.co.kr/maps/place/Hongji-dong,+Jongno-gu,+Seoul/'\n",
    "webbrowser.open(myurl)"
   ]
  },
  {
   "cell_type": "code",
   "execution_count": 43,
   "metadata": {
    "collapsed": false
   },
   "outputs": [
    {
     "name": "stdout",
     "output_type": "stream",
     "text": [
      "a=4&c=2016&b=20&e=30&d=6&f=2016&s=%5EKS11\n"
     ]
    }
   ],
   "source": [
    "import urllib\n",
    "params = urllib.urlencode({\"a\": 4, \"b\": 20, \"c\": 2016, \"d\": 6, \"e\": 30, \"f\": 2016, \"s\": \"^KS11\"})\n",
    "print params"
   ]
  },
  {
   "cell_type": "code",
   "execution_count": 48,
   "metadata": {
    "collapsed": false,
    "scrolled": true
   },
   "outputs": [
    {
     "data": {
      "text/html": [
       "<html>\n",
       "<body>\n",
       "\n",
       "<h2 class=\"my\">Turn this into blue</h2>\n",
       "\n",
       "<button onclick=\"myFunction()\">Click</button>\n",
       "\n",
       "<script>\n",
       "function myFunction() {\n",
       "    document.querySelector(\".my\").style.backgroundColor = \"blue\";\n",
       "}\n",
       "</script>\n",
       "\n",
       "</body>\n",
       "</html>"
      ],
      "text/plain": [
       "<IPython.core.display.HTML object>"
      ]
     },
     "metadata": {},
     "output_type": "display_data"
    }
   ],
   "source": [
    "%%HTML\n",
    "<html>\n",
    "<body>\n",
    "\n",
    "<h2 class=\"my\">Turn this into blue</h2>\n",
    "\n",
    "<button onclick=\"myFunction()\">Click</button>\n",
    "\n",
    "<script>\n",
    "function myFunction() {\n",
    "    document.querySelector(\".my\").style.backgroundColor = \"blue\";\n",
    "}\n",
    "</script>\n",
    "\n",
    "</body>\n",
    "</html>"
   ]
  },
  {
   "cell_type": "code",
   "execution_count": 51,
   "metadata": {
    "collapsed": false
   },
   "outputs": [
    {
     "data": {
      "text/html": [
       "<html>\n",
       "<body>\n",
       "\n",
       "<p id=\"p2\">Hello World!</p>\n",
       "\n",
       "<script>\n",
       "document.getElementById(\"p2\").style.color = \"RED\";\n",
       "</script>\n",
       "\n",
       "<p>Hello World turned into RED!</p>\n",
       "\n",
       "</body>\n",
       "</html>"
      ],
      "text/plain": [
       "<IPython.core.display.HTML object>"
      ]
     },
     "metadata": {},
     "output_type": "display_data"
    }
   ],
   "source": [
    "%%HTML\n",
    "<html>\n",
    "<body>\n",
    "\n",
    "<p id=\"p2\">Hello World!</p>\n",
    "\n",
    "<script>\n",
    "document.getElementById(\"p2\").style.color = \"RED\";\n",
    "</script>\n",
    "\n",
    "<p>Hello World turned into RED!</p>\n",
    "\n",
    "</body>\n",
    "</html>"
   ]
  },
  {
   "cell_type": "code",
   "execution_count": 53,
   "metadata": {
    "collapsed": false
   },
   "outputs": [
    {
     "name": "stdout",
     "output_type": "stream",
     "text": [
      "Overwriting my.xml\n"
     ]
    }
   ],
   "source": [
    "%%writefile my.xml\n",
    "<?xml version=\"1.0\" encoding=\"utf-8\"?>\n",
    "<wikimedia>\n",
    "  <projects>\n",
    "    <project name=\"Wikipedia\" launch=\"2001-01-05\">\n",
    "      <editions>\n",
    "        <edition language=\"English\">en.wikipedia.org</edition>\n",
    "        <edition language=\"German\">de.wikipedia.org</edition>\n",
    "        <edition language=\"French\">fr.wikipedia.org</edition>\n",
    "        <edition language=\"Polish\">pl.wikipedia.org</edition>\n",
    "        <edition language=\"Spanish\">es.wikipedia.org</edition>\n",
    "      </editions>\n",
    "    </project>\n",
    "    <project name=\"Wiktionary\" launch=\"2002-12-12\">\n",
    "      <editions>\n",
    "        <edition language=\"English\">en.wiktionary.org</edition>\n",
    "        <edition language=\"French\">fr.wiktionary.org</edition>\n",
    "        <edition language=\"Vietnamese\">vi.wiktionary.org</edition>\n",
    "        <edition language=\"Turkish\">tr.wiktionary.org</edition>\n",
    "        <edition language=\"Spanish\">es.wiktionary.org</edition>\n",
    "      </editions>\n",
    "    </project>\n",
    "  </projects>\n",
    "</wikimedia>"
   ]
  },
  {
   "cell_type": "code",
   "execution_count": 56,
   "metadata": {
    "collapsed": false
   },
   "outputs": [
    {
     "name": "stdout",
     "output_type": "stream",
     "text": [
      "<Element 'wikimedia' at 0x47212e8>\n"
     ]
    }
   ],
   "source": [
    "import xml.etree.ElementTree as ET\n",
    "tree=ET.parse('my.xml')\n",
    "root=tree.getroot()\n",
    "print root"
   ]
  },
  {
   "cell_type": "code",
   "execution_count": 58,
   "metadata": {
    "collapsed": false,
    "scrolled": true
   },
   "outputs": [
    {
     "name": "stdout",
     "output_type": "stream",
     "text": [
      "wikimedia {}\n",
      "projects {}\n",
      "project {'name': 'Wikipedia', 'launch': '2001-01-05'}\n",
      "editions {}\n",
      "edition {'language': 'English'}\n",
      "edition {'language': 'German'}\n",
      "edition {'language': 'French'}\n",
      "edition {'language': 'Polish'}\n",
      "edition {'language': 'Spanish'}\n",
      "project {'name': 'Wiktionary', 'launch': '2002-12-12'}\n",
      "editions {}\n",
      "edition {'language': 'English'}\n",
      "edition {'language': 'French'}\n",
      "edition {'language': 'Vietnamese'}\n",
      "edition {'language': 'Turkish'}\n",
      "edition {'language': 'Spanish'}\n"
     ]
    }
   ],
   "source": [
    "for node in tree.getiterator():\n",
    "    print node.tag, node.attrib"
   ]
  },
  {
   "cell_type": "code",
   "execution_count": 60,
   "metadata": {
    "collapsed": true
   },
   "outputs": [],
   "source": [
    "f=open('my.xml')\n",
    "xmlstr=f.read()\n",
    "f.close()"
   ]
  },
  {
   "cell_type": "code",
   "execution_count": 62,
   "metadata": {
    "collapsed": false
   },
   "outputs": [
    {
     "name": "stdout",
     "output_type": "stream",
     "text": [
      "<type 'str'>\n"
     ]
    }
   ],
   "source": [
    "print type(xmlstr)"
   ]
  },
  {
   "cell_type": "code",
   "execution_count": 64,
   "metadata": {
    "collapsed": false,
    "scrolled": true
   },
   "outputs": [
    {
     "name": "stdout",
     "output_type": "stream",
     "text": [
      "<?xml version=\"1.0\" encoding=\"utf-8\"?>\n",
      "<wikimedia>\n",
      "  <projects>\n",
      "    <project name=\"Wikipedia\" launch=\"2001-01-05\">\n",
      "      <editions>\n",
      "        <edition language=\"English\">en.wikipedia.org</edition>\n",
      "        <edition language=\"German\">de.wikipedia.org</edition>\n",
      "        <edition language=\"French\">fr.wikipedia.org</edition>\n",
      "        <edition language=\"Polish\">pl.wikipedia.org</edition>\n",
      "        <edition language=\"Spanish\">es.wikipedia.org</edition>\n",
      "      </editions>\n",
      "    </project>\n",
      "    <project name=\"Wiktionary\" launch=\"2002-12-12\">\n",
      "      <editions>\n",
      "        <edition language=\"English\">en.wiktionary.org</edition>\n",
      "        <edition language=\"French\">fr.wiktionary.org</edition>\n",
      "        <edition language=\"Vietnamese\">vi.wiktionary.org</edition>\n",
      "        <edition language=\"Turkish\">tr.wiktionary.org</edition>\n",
      "        <edition language=\"Spanish\">es.wiktionary.org</edition>\n",
      "      </editions>\n",
      "    </project>\n",
      "  </projects>\n",
      "</wikimedia>\n"
     ]
    }
   ],
   "source": [
    "print xmlstr"
   ]
  },
  {
   "cell_type": "code",
   "execution_count": 67,
   "metadata": {
    "collapsed": false
   },
   "outputs": [
    {
     "name": "stdout",
     "output_type": "stream",
     "text": [
      "wikimedia {}\n",
      "projects {}\n",
      "project {'name': 'Wikipedia', 'launch': '2001-01-05'}\n",
      "editions {}\n",
      "edition {'language': 'English'}\n",
      "edition {'language': 'German'}\n",
      "edition {'language': 'French'}\n",
      "edition {'language': 'Polish'}\n",
      "edition {'language': 'Spanish'}\n",
      "project {'name': 'Wiktionary', 'launch': '2002-12-12'}\n",
      "editions {}\n",
      "edition {'language': 'English'}\n",
      "edition {'language': 'French'}\n",
      "edition {'language': 'Vietnamese'}\n",
      "edition {'language': 'Turkish'}\n",
      "edition {'language': 'Spanish'}\n"
     ]
    }
   ],
   "source": [
    "import xml.etree.ElementTree as ET\n",
    "tree=ET.fromstring(xmlstr)\n",
    "for node in tree.getiterator():\n",
    "    print node.tag, node.attrib"
   ]
  },
  {
   "cell_type": "code",
   "execution_count": 70,
   "metadata": {
    "collapsed": false
   },
   "outputs": [],
   "source": [
    "import lxml\n",
    "import lxml.etree\n",
    "\n",
    "tree=lxml.etree.parse('my.xml')\n",
    "root=tree.getroot()"
   ]
  },
  {
   "cell_type": "code",
   "execution_count": 72,
   "metadata": {
    "collapsed": true
   },
   "outputs": [],
   "source": [
    "import StringIO\n",
    "tree=lxml.etree.parse(StringIO.StringIO(xmlstr))"
   ]
  },
  {
   "cell_type": "code",
   "execution_count": 74,
   "metadata": {
    "collapsed": false
   },
   "outputs": [
    {
     "name": "stdout",
     "output_type": "stream",
     "text": [
      "wikimedia {}\n",
      "projects {}\n",
      "project {'name': 'Wikipedia', 'launch': '2001-01-05'}\n",
      "editions {}\n",
      "edition {'language': 'English'}\n",
      "edition {'language': 'German'}\n",
      "edition {'language': 'French'}\n",
      "edition {'language': 'Polish'}\n",
      "edition {'language': 'Spanish'}\n",
      "project {'name': 'Wiktionary', 'launch': '2002-12-12'}\n",
      "editions {}\n",
      "edition {'language': 'English'}\n",
      "edition {'language': 'French'}\n",
      "edition {'language': 'Vietnamese'}\n",
      "edition {'language': 'Turkish'}\n",
      "edition {'language': 'Spanish'}\n"
     ]
    }
   ],
   "source": [
    "for node in tree.getiterator():\n",
    "    print node.tag, node.attrib"
   ]
  },
  {
   "cell_type": "code",
   "execution_count": 77,
   "metadata": {
    "collapsed": false
   },
   "outputs": [],
   "source": [
    "treeiter=lxml.etree.iterparse(StringIO.StringIO(xmlstr))"
   ]
  },
  {
   "cell_type": "code",
   "execution_count": 79,
   "metadata": {
    "collapsed": false
   },
   "outputs": [
    {
     "data": {
      "text/plain": [
       "lxml.etree.iterparse"
      ]
     },
     "execution_count": 79,
     "metadata": {},
     "output_type": "execute_result"
    }
   ],
   "source": [
    "type(treeiter)"
   ]
  },
  {
   "cell_type": "code",
   "execution_count": 83,
   "metadata": {
    "collapsed": false,
    "scrolled": true
   },
   "outputs": [],
   "source": [
    "for action, elem in treeiter:\n",
    "    if not elem.text:\n",
    "        text=\"None\"\n",
    "    else:\n",
    "        text=elem.text\n",
    "    print elem.tag+\"=>\"+text"
   ]
  },
  {
   "cell_type": "code",
   "execution_count": 86,
   "metadata": {
    "collapsed": false
   },
   "outputs": [
    {
     "name": "stdout",
     "output_type": "stream",
     "text": [
      "2\n"
     ]
    }
   ],
   "source": [
    "nodes = tree.xpath(\"/wikimedia/projects/project/@name\")\n",
    "print len(nodes)"
   ]
  },
  {
   "cell_type": "code",
   "execution_count": 88,
   "metadata": {
    "collapsed": false
   },
   "outputs": [
    {
     "name": "stdout",
     "output_type": "stream",
     "text": [
      "Wikipedia\n",
      "Wiktionary\n"
     ]
    }
   ],
   "source": [
    "for node in nodes:\n",
    "    print node"
   ]
  },
  {
   "cell_type": "code",
   "execution_count": 91,
   "metadata": {
    "collapsed": false
   },
   "outputs": [
    {
     "name": "stdout",
     "output_type": "stream",
     "text": [
      "10\n"
     ]
    }
   ],
   "source": [
    "nodes = tree.xpath(\"//editions/edition/text()\")\n",
    "print len(nodes)"
   ]
  },
  {
   "cell_type": "code",
   "execution_count": 93,
   "metadata": {
    "collapsed": false
   },
   "outputs": [
    {
     "name": "stdout",
     "output_type": "stream",
     "text": [
      "en.wikipedia.org\n",
      "de.wikipedia.org\n",
      "fr.wikipedia.org\n",
      "pl.wikipedia.org\n",
      "es.wikipedia.org\n",
      "en.wiktionary.org\n",
      "fr.wiktionary.org\n",
      "vi.wiktionary.org\n",
      "tr.wiktionary.org\n",
      "es.wiktionary.org\n"
     ]
    }
   ],
   "source": [
    "for node in nodes:\n",
    "    print node"
   ]
  },
  {
   "cell_type": "code",
   "execution_count": 97,
   "metadata": {
    "collapsed": false
   },
   "outputs": [
    {
     "name": "stdout",
     "output_type": "stream",
     "text": [
      "2\n"
     ]
    }
   ],
   "source": [
    "nodes = tree.xpath(\"/wikimedia/projects/project/editions/edition[@language='English']/text()\")\n",
    "print len(nodes)"
   ]
  },
  {
   "cell_type": "code",
   "execution_count": 99,
   "metadata": {
    "collapsed": false
   },
   "outputs": [
    {
     "name": "stdout",
     "output_type": "stream",
     "text": [
      "en.wikipedia.org\n",
      "en.wiktionary.org\n"
     ]
    }
   ],
   "source": [
    "for node in nodes:\n",
    "    print node"
   ]
  },
  {
   "cell_type": "code",
   "execution_count": 102,
   "metadata": {
    "collapsed": false
   },
   "outputs": [
    {
     "name": "stdout",
     "output_type": "stream",
     "text": [
      "5\n"
     ]
    }
   ],
   "source": [
    "nodes = tree.xpath(\"/wikimedia/projects/project[@name='Wikipedia']/editions/edition/text()\")\n",
    "print len(nodes)"
   ]
  },
  {
   "cell_type": "code",
   "execution_count": 104,
   "metadata": {
    "collapsed": false,
    "scrolled": true
   },
   "outputs": [
    {
     "name": "stdout",
     "output_type": "stream",
     "text": [
      "en.wikipedia.org\n",
      "de.wikipedia.org\n",
      "fr.wikipedia.org\n",
      "pl.wikipedia.org\n",
      "es.wikipedia.org\n"
     ]
    }
   ],
   "source": [
    "for node in nodes:\n",
    "    print node"
   ]
  },
  {
   "cell_type": "code",
   "execution_count": 106,
   "metadata": {
    "collapsed": false,
    "scrolled": true
   },
   "outputs": [
    {
     "data": {
      "text/html": [
       "<!DOCTYPE html>\n",
       "<html>\n",
       "<head>\n",
       "    <meta charset=\"UTF-8\">\n",
       "    <title>My Home Page</title>\n",
       "    <style>\n",
       "        h1 {text-align: center;\n",
       "           color:red;\n",
       "        };\n",
       "    </style>\n",
       "</head>\n",
       "<body>\n",
       "    <h1>안녕하십니까</h1>\n",
       "    <p>오늘은 프로그래밍 하는 날...</p>\n",
       "    <p>Today we do programming...</p>\n",
       "</body>\n",
       "</html>"
      ],
      "text/plain": [
       "<IPython.core.display.HTML object>"
      ]
     },
     "metadata": {},
     "output_type": "display_data"
    }
   ],
   "source": [
    "%%HTML\n",
    "<!DOCTYPE html>\n",
    "<html>\n",
    "<head>\n",
    "    <meta charset=\"UTF-8\">\n",
    "    <title>My Home Page</title>\n",
    "    <style>\n",
    "        h1 {text-align: center;\n",
    "           color:red;\n",
    "        };\n",
    "    </style>\n",
    "</head>\n",
    "<body>\n",
    "    <h1>안녕하십니까</h1>\n",
    "    <p>오늘은 프로그래밍 하는 날...</p>\n",
    "    <p>Today we do programming...</p>\n",
    "</body>\n",
    "</html>"
   ]
  },
  {
   "cell_type": "code",
   "execution_count": 109,
   "metadata": {
    "collapsed": false
   },
   "outputs": [
    {
     "data": {
      "text/plain": [
       "lxml.etree._ElementTree"
      ]
     },
     "execution_count": 109,
     "metadata": {},
     "output_type": "execute_result"
    }
   ],
   "source": [
    "type(tree)"
   ]
  },
  {
   "cell_type": "code",
   "execution_count": 2,
   "metadata": {
    "collapsed": true
   },
   "outputs": [],
   "source": [
    "htmlstr=\"\"\"<!DOCTYPE html>\n",
    "<html>\n",
    "<head>\n",
    "<meta charset=\"UTF-8\">\n",
    "<title>My Home Page</title>\n",
    "</head>\n",
    "<body>\n",
    "<h1>안녕하십니까</h1>\n",
    "<p>오늘은 프로그래밍 하는 날...</p>\n",
    "<p>Today we do programming...</p>\n",
    "</body>\n",
    "</html>\"\"\""
   ]
  },
  {
   "cell_type": "code",
   "execution_count": 22,
   "metadata": {
    "collapsed": true
   },
   "outputs": [],
   "source": [
    "import lxml.html\n",
    "from lxml.cssselect import CSSSelector\n",
    "import requests\n",
    "r = requests.get('http://python.org/')\n",
    "\n",
    "html = lxml.html.fromstring(r.text)\n",
    "sel=CSSSelector('a[href]')\n",
    "# Apply the selector to the DOM tree.\n",
    "nodes = sel(html)"
   ]
  },
  {
   "cell_type": "code",
   "execution_count": 24,
   "metadata": {
    "collapsed": false
   },
   "outputs": [
    {
     "name": "stdout",
     "output_type": "stream",
     "text": [
      "196\n",
      "#content Skip to content\n",
      "#python-network \n",
      "                    \n",
      "/ Python\n",
      "/psf-landing/ PSF\n",
      "https://docs.python.org Docs\n",
      "https://pypi.python.org/ PyPI\n",
      "/jobs/ Jobs\n",
      "/community/ Community\n",
      "#top \n",
      "                    \n",
      "/ None\n",
      "#site-map None\n",
      "# None\n",
      "javascript:; Smaller\n",
      "javascript:; Larger\n",
      "javascript:; Reset\n",
      "# Socialize\n",
      "http://plus.google.com/+Python None\n",
      "http://www.facebook.com/pythonlang?fref=ts None\n",
      "http://twitter.com/ThePSF None\n",
      "/community/irc/ None\n",
      "/accounts/login/ Sign In\n",
      "/accounts/signup/ Sign Up / Register\n",
      "/accounts/login/ Sign In\n",
      "/about/ About\n",
      "/about/apps/ Applications\n",
      "/about/quotes/ Quotes\n",
      "/about/gettingstarted/ Getting Started\n",
      "/about/help/ Help\n",
      "http://brochure.getpython.info/ Python Brochure\n",
      "/downloads/ Downloads\n",
      "/downloads/ All releases\n",
      "/downloads/source/ Source code\n",
      "/downloads/windows/ Windows\n",
      "/downloads/mac-osx/ Mac OS X\n",
      "/download/other/ Other Platforms\n",
      "https://docs.python.org/3/license.html License\n",
      "/download/alternatives Alternative Implementations\n",
      "/doc/ Documentation\n",
      "/doc/ Docs\n",
      "/doc/av Audio/Visual Talks\n",
      "https://wiki.python.org/moin/BeginnersGuide Beginner's Guide\n",
      "https://docs.python.org/devguide/ Developer's Guide\n",
      "https://docs.python.org/faq/ FAQ\n",
      "http://wiki.python.org/moin/Languages Non-English Docs\n",
      "http://python.org/dev/peps/ PEP Index\n",
      "https://wiki.python.org/moin/PythonBooks Python Books\n",
      "/community/ Community\n",
      "/community/diversity/ Diversity\n",
      "/community/irc/ IRC\n",
      "/community/lists/ Mailing Lists\n",
      "/community/workshops/ Python Conferences\n",
      "/community/sigs/ Special Interest Groups\n",
      "https://wiki.python.org/moin/ Python Wiki\n",
      "/community/logos/ Python Logo\n",
      "/community/merchandise/ Merchandise\n",
      "/community/awards Community Awards\n",
      "/about/success/ Success Stories\n",
      "/about/success/#arts Arts\n",
      "/about/success/#business Business\n",
      "/about/success/#education Education\n",
      "/about/success/#engineering Engineering\n",
      "/about/success/#government Government\n",
      "/about/success/#scientific Scientific\n",
      "/about/success/#software-development Software Development\n",
      "/blogs/ News\n",
      "/blogs/ Python News\n",
      "http://planetpython.org/ Community News\n",
      "http://pyfound.blogspot.com/ PSF News\n",
      "http://pycon.blogspot.com/ PyCon News\n",
      "/events/ Events\n",
      "/events/python-events Python Events\n",
      "/events/python-user-group/ User Group Events\n",
      "/events/python-events/past/ Python Events Archive\n",
      "/events/python-user-group/past/ User Group Events Archive\n",
      "https://wiki.python.org/moin/PythonEventsCalendar#Submitting_an_Event Submit an Event\n",
      "/shell/ >_\n",
      "                        \n",
      "//docs.python.org/3/tutorial/controlflow.html#defining-functions More about defining functions in Python 3\n",
      "//docs.python.org/3/tutorial/introduction.html#lists More about lists in Python 3\n",
      "http://docs.python.org/3/tutorial/introduction.html#using-python-as-a-calculator More about simple math functions in Python 3\n",
      "//docs.python.org/3/tutorial/ Whet your appetite\n",
      "//docs.python.org/3/tutorial/controlflow.html More control flow tools in Python 3\n",
      "/doc/ Learn More\n",
      "/about/gettingstarted/ Start with our Beginner’s Guide\n",
      "https://wiki.python.org/moin/Python2orPython3 Check here\n",
      "/downloads/release/python-352/ Python 3.5.2\n",
      "/downloads/release/python-2712/ Python 2.7.12\n",
      "https://docs.python.org docs.python.org\n",
      "//jobs.python.org jobs.python.org\n",
      "http://blog.python.org More\n",
      "http://feedproxy.google.com/~r/PythonInsider/~3/fAqupGsm4LQ/python-360b2-is-now-available.html Python 3.6.0b2 is the second of four planned beta releases of ...\n",
      "http://feedproxy.google.com/~r/PythonInsider/~3/ZLTGxjKhYp0/python-core-development-sprint-2016-36.html From September 5th to the 9th a group of Python ...\n",
      "http://feedproxy.google.com/~r/PythonInsider/~3/6vXS6z9YHg0/python-360-beta-1-is-now-available.html Python 3.6.0b1 is the first of four planned beta releases of ...\n",
      "http://feedproxy.google.com/~r/PythonInsider/~3/ukG8L0FEq2Q/python-360-alpha-4-preview-release-is.html Python 3.6.0a4 has been released.  3.6.0a4 is the last of four planned alpha ...\n",
      "http://feedproxy.google.com/~r/PythonInsider/~3/6i6vUY_x_SE/python-360-alpha-3-preview-release-is.html Python 3.6.0a3 has been released.  3.6.0a3 is the third of four planned alpha ...\n",
      "/events/calendars/ More\n",
      "/events/python-user-group/469/ Chennaipy\n",
      "/events/python-user-group/464/ PyKla monthly meetup\n",
      "/events/python-events/416/ PyCon CZ 2016\n",
      "/events/python-events/433/ PyCon DE 2016\n",
      "/events/python-events/443/ PyCon HK 2016\n",
      "/success-stories/ More\n",
      "/success-stories/industrial-light-magic-runs-python/ ILM runs a batch processing environment capable of modeling, rendering and compositing tens of thousands of motion picture frames per day. Thousands of machines running Linux, IRIX, Compaq Tru64, OS X, Solaris, and Windows join together to provide a production pipeline used by ~800 users daily. Speed of development is key, and Python was a faster way to code (and re-code) the programs that control this production pipeline.\n",
      "/success-stories/industrial-light-magic-runs-python/ Industrial Light & Magic Runs on Python\n",
      "/about/apps More\n",
      "http://www.djangoproject.com/ Django\n",
      "http://www.pylonsproject.org/ Pyramid\n",
      "http://bottlepy.org Bottle\n",
      "http://tornadoweb.org Tornado\n",
      "http://flask.pocoo.org/ Flask\n",
      "http://www.web2py.com/ web2py\n",
      "http://www.wxpython.org/ wxPython\n",
      "http://wiki.python.org/moin/TkInter tkInter\n",
      "http://www.pygtk.org PyGtk\n",
      "https://wiki.gnome.org/Projects/PyGObject PyGObject\n",
      "http://www.riverbankcomputing.co.uk/software/pyqt/intro PyQt\n",
      "http://www.scipy.org SciPy\n",
      "http://pandas.pydata.org/ Pandas\n",
      "http://ipython.org IPython\n",
      "http://buildbot.net/ Buildbot\n",
      "http://trac.edgewall.org/ Trac\n",
      "http://roundup.sourceforge.net/ Roundup\n",
      "http://www.ansible.com Ansible\n",
      "http://www.saltstack.com Salt\n",
      "https://www.openstack.org OpenStack\n",
      "/dev/peps/ Python Enhancement Proposals\n",
      "/dev/peps/peps.rss None\n",
      "/psf/ Python Software Foundation\n",
      "/psf/ Learn more\n",
      "/users/membership/ Become a Member\n",
      "/psf/donations/ Donate to the PSF\n",
      "#python-network None\n",
      "/about/ About\n",
      "/about/apps/ Applications\n",
      "/about/quotes/ Quotes\n",
      "/about/gettingstarted/ Getting Started\n",
      "/about/help/ Help\n",
      "http://brochure.getpython.info/ Python Brochure\n",
      "/downloads/ Downloads\n",
      "/downloads/ All releases\n",
      "/downloads/source/ Source code\n",
      "/downloads/windows/ Windows\n",
      "/downloads/mac-osx/ Mac OS X\n",
      "/download/other/ Other Platforms\n",
      "https://docs.python.org/3/license.html License\n",
      "/download/alternatives Alternative Implementations\n",
      "/doc/ Documentation\n",
      "/doc/ Docs\n",
      "/doc/av Audio/Visual Talks\n",
      "https://wiki.python.org/moin/BeginnersGuide Beginner's Guide\n",
      "https://docs.python.org/devguide/ Developer's Guide\n",
      "https://docs.python.org/faq/ FAQ\n",
      "http://wiki.python.org/moin/Languages Non-English Docs\n",
      "http://python.org/dev/peps/ PEP Index\n",
      "https://wiki.python.org/moin/PythonBooks Python Books\n",
      "/community/ Community\n",
      "/community/diversity/ Diversity\n",
      "/community/irc/ IRC\n",
      "/community/lists/ Mailing Lists\n",
      "/community/workshops/ Python Conferences\n",
      "/community/sigs/ Special Interest Groups\n",
      "https://wiki.python.org/moin/ Python Wiki\n",
      "/community/logos/ Python Logo\n",
      "/community/merchandise/ Merchandise\n",
      "/community/awards Community Awards\n",
      "/about/success/ Success Stories\n",
      "/about/success/#arts Arts\n",
      "/about/success/#business Business\n",
      "/about/success/#education Education\n",
      "/about/success/#engineering Engineering\n",
      "/about/success/#government Government\n",
      "/about/success/#scientific Scientific\n",
      "/about/success/#software-development Software Development\n",
      "/blogs/ News\n",
      "/blogs/ Python News\n",
      "http://planetpython.org/ Community News\n",
      "http://pyfound.blogspot.com/ PSF News\n",
      "http://pycon.blogspot.com/ PyCon News\n",
      "/events/ Events\n",
      "/events/python-events Python Events\n",
      "/events/python-user-group/ User Group Events\n",
      "/events/python-events/past/ Python Events Archive\n",
      "/events/python-user-group/past/ User Group Events Archive\n",
      "https://wiki.python.org/moin/PythonEventsCalendar#Submitting_an_Event Submit an Event\n",
      "/dev/ Contributing\n",
      "http://docs.python.org/devguide/ Developer's Guide\n",
      "http://bugs.python.org/ Issue Tracker\n",
      "https://mail.python.org/mailman/listinfo/python-dev python-dev list\n",
      "http://pythonmentors.com/ Core Mentorship\n",
      "#python-network None\n",
      "/about/help/ Help & \n",
      "/community/diversity/ Diversity \n",
      "https://github.com/python/pythondotorg/issues Submit Website Bug\n",
      "https://status.python.org/ Status \n",
      "/psf-landing/ Python Software Foundation\n",
      "/about/legal/ Legal Statements\n",
      "/privacy/ Privacy Policy\n"
     ]
    }
   ],
   "source": [
    "print len(nodes)\n",
    "for node in nodes:\n",
    "    #print lxml.html.tostring(item)\n",
    "    print node.get('href'), node.text"
   ]
  },
  {
   "cell_type": "code",
   "execution_count": 26,
   "metadata": {
    "collapsed": false
   },
   "outputs": [
    {
     "name": "stdout",
     "output_type": "stream",
     "text": [
      "25437\n"
     ]
    }
   ],
   "source": [
    "import urllib2\n",
    "url='http://archive.ics.uci.edu/ml/machine-learning-databases/horse-colic/horse-colic.data'\n",
    "res=urllib2.urlopen(url)\n",
    "html = res.read()\n",
    "res.close()\n",
    "print len(html)"
   ]
  },
  {
   "cell_type": "code",
   "execution_count": 28,
   "metadata": {
    "collapsed": false
   },
   "outputs": [
    {
     "name": "stdout",
     "output_type": "stream",
     "text": [
      "300 28\n",
      "['2', '1', '530101', '38.50', '66', '28', '3', '3', '?', '2', '5', '4', '4', '?', '?', '?', '3', '5', '45.00', '8.40', '?', '?', '2', '2', '11300', '00000', '00000', '2']\n"
     ]
    }
   ],
   "source": [
    "lines=html.splitlines()\n",
    "data=[]\n",
    "for line in lines:\n",
    "    data.append(line.split())\n",
    "print len(data), len(data[0])\n",
    "print data[0]"
   ]
  },
  {
   "cell_type": "code",
   "execution_count": 30,
   "metadata": {
    "collapsed": true
   },
   "outputs": [],
   "source": [
    "for i in range(0,len(data)):\n",
    "    if len(data[i]) != len(data[0]):\n",
    "        print \"wrong size at\", i"
   ]
  },
  {
   "cell_type": "code",
   "execution_count": 32,
   "metadata": {
    "collapsed": false
   },
   "outputs": [
    {
     "name": "stdout",
     "output_type": "stream",
     "text": [
      "38.50\n",
      "39.2\n",
      "38.30\n",
      "39.10\n",
      "37.30\n",
      "?\n",
      "37.90\n",
      "?\n",
      "?\n",
      "38.30\n",
      "38.10\n",
      "39.10\n",
      "37.20\n",
      "38.00\n",
      "38.2\n",
      "37.60\n",
      "?\n",
      "37.50\n",
      "37.60\n",
      "39.4\n"
     ]
    }
   ],
   "source": [
    "for i in range(0,20):\n",
    "    print data[i][3]"
   ]
  },
  {
   "cell_type": "code",
   "execution_count": 34,
   "metadata": {
    "collapsed": false
   },
   "outputs": [
    {
     "name": "stdout",
     "output_type": "stream",
     "text": [
      "0 38.50 38.5\n",
      "1 39.2 77.7\n",
      "2 38.30 116.0\n",
      "3 39.10 155.1\n",
      "4 37.30 192.4\n",
      "5 None\n",
      "6 37.90 230.3\n",
      "7 None\n",
      "8 None\n",
      "9 38.30 268.6\n",
      "10 38.10 306.7\n",
      "11 39.10 345.8\n",
      "12 37.20 383.0\n",
      "13 38.00 421.0\n",
      "14 38.2 459.2\n",
      "15 37.60 496.8\n",
      "16 None\n",
      "17 37.50 534.3\n",
      "18 37.60 571.9\n",
      "19 39.4 611.3\n",
      "count=16 sum=611.3 average=38.21\n"
     ]
    }
   ],
   "source": [
    "sum=0\n",
    "cnt=0\n",
    "for i in range(0,20):\n",
    "    val=data[i][3]\n",
    "    if val is '?':\n",
    "        print i,\"None\"\n",
    "    else:\n",
    "        sum+=float(val)\n",
    "        cnt+=1\n",
    "        print i,val, sum\n",
    "average=float(sum/cnt)\n",
    "print \"count={0} sum={1} average={2:2.2f}\".format(cnt,sum,average)"
   ]
  },
  {
   "cell_type": "code",
   "execution_count": 36,
   "metadata": {
    "collapsed": false
   },
   "outputs": [
    {
     "data": {
      "text/plain": [
       "5980"
      ]
     },
     "execution_count": 36,
     "metadata": {},
     "output_type": "execute_result"
    }
   ],
   "source": [
    "from urllib import urlopen\n",
    "keyword='python'\n",
    "resp = urlopen('https://www.google.com/search?q='+keyword)\n",
    "html=resp.read()\n",
    "len(html)"
   ]
  },
  {
   "cell_type": "code",
   "execution_count": 38,
   "metadata": {
    "collapsed": false
   },
   "outputs": [
    {
     "name": "stdout",
     "output_type": "stream",
     "text": [
      "error\n"
     ]
    }
   ],
   "source": [
    "import re\n",
    "p=re.compile('.*(error).*')\n",
    "print p.search(html).group(1)"
   ]
  },
  {
   "cell_type": "code",
   "execution_count": 40,
   "metadata": {
    "collapsed": false
   },
   "outputs": [
    {
     "data": {
      "text/plain": [
       "True"
      ]
     },
     "execution_count": 40,
     "metadata": {},
     "output_type": "execute_result"
    }
   ],
   "source": [
    "import webbrowser\n",
    "webbrowser.open('http://www.google.com/search?q=python')"
   ]
  },
  {
   "cell_type": "code",
   "execution_count": 42,
   "metadata": {
    "collapsed": false
   },
   "outputs": [
    {
     "name": "stdout",
     "output_type": "stream",
     "text": [
      "302  {'Date': 'Mon, 17 Oct 2016 00:57:59 GMT', 'Content-Length': '261', 'Content-Type': 'text/html; charset=UTF-8', 'Location': 'http://www.google.co.kr/?gfe_rd=cr&ei=FyIEWJugCM_U8AekioGwBQ', 'Cache-Control': 'private'}\n"
     ]
    }
   ],
   "source": [
    "import requests\n",
    "\n",
    "resp = requests.head(\"http://www.google.com\")\n",
    "print resp.status_code, resp.text, resp.headers"
   ]
  },
  {
   "cell_type": "code",
   "execution_count": 44,
   "metadata": {
    "collapsed": false
   },
   "outputs": [
    {
     "name": "stdout",
     "output_type": "stream",
     "text": [
      "Date: Mon, 17 Oct 2016 00:58:08 GMT\r\n",
      "Expires: -1\r\n",
      "Cache-Control: private, max-age=0\r\n",
      "Content-Type: text/html; charset=EUC-KR\r\n",
      "P3P: CP=\"This is not a P3P policy! See https://www.google.com/support/accounts/answer/151657?hl=en for more info.\"\r\n",
      "Server: gws\r\n",
      "X-XSS-Protection: 1; mode=block\r\n",
      "X-Frame-Options: SAMEORIGIN\r\n",
      "Set-Cookie: NID=88=bwkJFIr7L8fSTqqmVgKJEkdpO-IYpNzcTkMuk97anbUgE56MGhbMvnxpLpUglpLypWeaJDxu9MOMlH5HOq23dEoHmJfO_hncK5J8DZsxVLtXDaWtB3V79FlBsVKTjDlV; expires=Tue, 18-Apr-2017 00:58:08 GMT; path=/; domain=.google.co.kr; HttpOnly\r\n",
      "Accept-Ranges: none\r\n",
      "Vary: Accept-Encoding\r\n",
      "Connection: close\r\n",
      "\n",
      "http://www.google.co.kr/index.html?gfe_rd=cr&ei=ICIEWM8n79zyB8T5oPAH\n"
     ]
    }
   ],
   "source": [
    "import urllib2\n",
    "class HeadRequest(urllib2.Request):\n",
    "     def get_method(self):\n",
    "         return \"HEAD\"\n",
    "\n",
    "response = urllib2.urlopen(HeadRequest(\"http://google.com/index.html\"))\n",
    "print response.info()\n",
    "print response.geturl()"
   ]
  },
  {
   "cell_type": "code",
   "execution_count": 46,
   "metadata": {
    "collapsed": false
   },
   "outputs": [
    {
     "data": {
      "text/plain": [
       "'Python-urllib/1.17'"
      ]
     },
     "execution_count": 46,
     "metadata": {},
     "output_type": "execute_result"
    }
   ],
   "source": [
    "from urllib import URLopener\n",
    "URLopener.version"
   ]
  },
  {
   "cell_type": "code",
   "execution_count": 48,
   "metadata": {
    "collapsed": false
   },
   "outputs": [
    {
     "data": {
      "text/plain": [
       "'My new User-Agent'"
      ]
     },
     "execution_count": 48,
     "metadata": {},
     "output_type": "execute_result"
    }
   ],
   "source": [
    "from urllib import FancyURLopener\n",
    "class MyOpener(FancyURLopener):\n",
    "    version = 'My new User-Agent'\n",
    "MyOpener.version"
   ]
  },
  {
   "cell_type": "code",
   "execution_count": 50,
   "metadata": {
    "collapsed": false
   },
   "outputs": [
    {
     "data": {
      "text/plain": [
       "'Mozilla/5.0 (Macintosh; Intel Mac OS X 10_11_1) AppleWebKit/601.2.7 (KHTML, like Gecko) Version/9.0.1 Safari/601.2.7'"
      ]
     },
     "execution_count": 50,
     "metadata": {},
     "output_type": "execute_result"
    }
   ],
   "source": [
    "class MyOpener(FancyURLopener):\n",
    "    #version = 'Mozilla/5.0 (X11; Ubuntu; Linux x86_64; rv:42.0) Gecko/20100101 Firefox/42.0'\n",
    "    version = 'Mozilla/5.0 (Macintosh; Intel Mac OS X 10_11_1) AppleWebKit/601.2.7 (KHTML, like Gecko) Version/9.0.1 Safari/601.2.7'\n",
    "MyOpener.version"
   ]
  },
  {
   "cell_type": "code",
   "execution_count": 52,
   "metadata": {
    "collapsed": true
   },
   "outputs": [],
   "source": [
    "myopener = MyOpener()\n",
    "page = myopener.open('http://www.google.com/search?q=python')\n",
    "html=page.read()"
   ]
  },
  {
   "cell_type": "code",
   "execution_count": 54,
   "metadata": {
    "collapsed": false
   },
   "outputs": [
    {
     "name": "stdout",
     "output_type": "stream",
     "text": [
      "file://localhostC:\\Users\\da_yo\\Documents\\mygoogle.html\n"
     ]
    },
    {
     "data": {
      "text/plain": [
       "True"
      ]
     },
     "execution_count": 54,
     "metadata": {},
     "output_type": "execute_result"
    }
   ],
   "source": [
    "import os\n",
    "f=open('mygoogle.html','w')\n",
    "f.write(html)\n",
    "f.close()\n",
    "import webbrowser\n",
    "mygoogle='file://'+'localhost'+os.path.join(os.getcwd(), 'mygoogle.html')\n",
    "print mygoogle\n",
    "webbrowser.open(mygoogle)"
   ]
  },
  {
   "cell_type": "code",
   "execution_count": 56,
   "metadata": {
    "collapsed": false
   },
   "outputs": [
    {
     "name": "stdout",
     "output_type": "stream",
     "text": [
      "55\n",
      "https://www.google.co.kr/intl/ko/options/\n",
      "https://accounts.google.com/ServiceLogin?hl=ko&amp;passive=true&amp;continue=https://www.google.co.k\n",
      "https://www.google.com/url?q=/chrome/browser/desktop/index.html%3Fhl%3Dko%26brand%3DHLDY%26utm_sourc\n",
      "https://www.google.co.kr/webhp?hl=ko&amp;sa=X&amp;ved=0ahUKEwivnpCk0eDPAhXLQo8KHcGwBHkQPAgD\n",
      "https://www.python.org/\n",
      "https://www.python.org/\n",
      "https://www.python.org/\n",
      "https://webcache.googleusercontent.com/search?q=cache:Fvb7Gz_c4rwJ:https://www.python.org/+&amp;cd=2\n",
      "https://translate.google.co.kr/translate?hl=ko&amp;sl=en&amp;u=https://www.python.org/&amp;prev=sear\n",
      "https://www.python.org/downloads/\n",
      "https://www.python.org/downloads/release/python-343/\n",
      "https://www.python.org/doc/\n",
      "https://www.python.org/about/gettingstarted/\n",
      "https://www.python.org/downloads/\n",
      "https://webcache.googleusercontent.com/search?q=cache:mKMOugLFVo8J:https://www.python.org/downloads/\n",
      "https://translate.google.co.kr/translate?hl=ko&amp;sl=en&amp;u=https://www.python.org/downloads/&amp\n",
      "https://ko.wikipedia.org/wiki/%ED%8C%8C%EC%9D%B4%EC%8D%AC\n",
      "https://webcache.googleusercontent.com/search?q=cache:OL25IRr7kSMJ:https://ko.wikipedia.org/wiki/%25\n",
      "https://en.wikipedia.org/wiki/Python_(programming_language)\n",
      "https://webcache.googleusercontent.com/search?q=cache:3wRBXLyvECcJ:https://en.wikipedia.org/wiki/Pyt\n",
      "https://translate.google.co.kr/translate?hl=ko&amp;sl=en&amp;u=https://en.wikipedia.org/wiki/Python_\n",
      "https://tutorial.djangogirls.org/ko/python_introduction/\n",
      "https://webcache.googleusercontent.com/search?q=cache:9o-y50p1vcYJ:https://tutorial.djangogirls.org/\n",
      "https://wikidocs.net/6\n",
      "https://webcache.googleusercontent.com/search?q=cache:LmCkGjF_ShkJ:https://wikidocs.net/6+&amp;cd=7&\n",
      "https://www.codecademy.com/learn/python\n",
      "https://webcache.googleusercontent.com/search?q=cache:VieTLWvITEcJ:https://www.codecademy.com/learn/\n",
      "https://translate.google.co.kr/translate?hl=ko&amp;sl=en&amp;u=https://www.codecademy.com/learn/pyth\n",
      "https://www.codecademy.com/ko/tracks/python-ko\n",
      "https://webcache.googleusercontent.com/search?q=cache:cCt2AOEUzsYJ:https://www.codecademy.com/ko/tra\n",
      "https://www.tutorialspoint.com/python/\n",
      "https://webcache.googleusercontent.com/search?q=cache:mWd-kiWxLAYJ:https://www.tutorialspoint.com/py\n",
      "https://translate.google.co.kr/translate?hl=ko&amp;sl=en&amp;u=https://www.tutorialspoint.com/python\n",
      "https://translate.google.co.kr/translate?hl=ko&amp;sl=en&amp;u=http://planetpython.org/&amp;prev=sea\n",
      "https://support.google.com/websearch?p=ws_settings_location&amp;hl=ko\n",
      "https://www.google.com/search?q=python&amp;gws_rd=cr,ssl&amp;ei=TiIEWPObJIqLvQSd25agBA&amp;fg=1\n",
      "https://myaccount.google.com/?utm_source=OGB\n",
      "https://www.google.co.kr/webhp?tab=ww&amp;ei=TyIEWKfJCZuevQTPrLK4CQ&amp;ved=0EKkuCAEoAQ\n",
      "https://maps.google.co.kr/maps?hl=ko&amp;tab=wl\n",
      "https://www.youtube.com/?gl=KR\n",
      "https://play.google.com/?hl=ko&amp;tab=w8\n",
      "https://news.google.co.kr/nwshp?hl=ko&amp;tab=wn&amp;ei=TyIEWKfJCZuevQTPrLK4CQ&amp;ved=0EKkuCAUoBQ\n",
      "https://mail.google.com/mail/?tab=wm\n",
      "https://drive.google.com/?tab=wo\n",
      "https://www.google.com/calendar?tab=wc\n",
      "https://plus.google.com/?gpsrc=ogpy0&amp;tab=wX\n",
      "https://translate.google.co.kr/?hl=ko&amp;tab=wT\n",
      "https://photos.google.com/?tab=wq\n",
      "https://www.google.co.kr/intl/ko/options/\n",
      "https://docs.google.com/document/?usp=docs_alc\n",
      "https://books.google.co.kr/bkshp?hl=ko&amp;tab=wp&amp;ei=TyIEWKfJCZuevQTPrLK4CQ&amp;ved=0EKkuCA0oDQ\n",
      "https://www.blogger.com/?tab=wj\n",
      "https://www.google.com/contacts/?hl=ko&amp;tab=wC\n",
      "https://hangouts.google.com/\n",
      "https://www.google.co.kr/intl/ko/options/\n"
     ]
    }
   ],
   "source": [
    "import re\n",
    "\n",
    "p=re.compile('href=\"(https://.*?)\"')\n",
    "#p=re.compile('.*href.*')\n",
    "res=p.findall(html)\n",
    "print len(res)\n",
    "for item in res:\n",
    "    print item[:100]"
   ]
  },
  {
   "cell_type": "code",
   "execution_count": 58,
   "metadata": {
    "collapsed": false
   },
   "outputs": [
    {
     "name": "stdout",
     "output_type": "stream",
     "text": [
      "q=python+programming+tutorials\n"
     ]
    }
   ],
   "source": [
    "import urllib2\n",
    "import urllib\n",
    "googleurl = 'https://www.google.com/search'\n",
    "keyValues = {'q' : 'python programming tutorials'}\n",
    "request = urllib.urlencode(keyValues)\n",
    "print request\n",
    "request = request.encode('utf-8')"
   ]
  },
  {
   "cell_type": "code",
   "execution_count": 60,
   "metadata": {
    "collapsed": false
   },
   "outputs": [
    {
     "name": "stdout",
     "output_type": "stream",
     "text": [
      "<urllib2.Request instance at 0x00000000068BC808>\n",
      "https://www.google.com/search?q=python+programming+tutorials\n",
      "<bound method Request.get_method of <urllib2.Request instance at 0x00000000068BC808>>\n"
     ]
    }
   ],
   "source": [
    "req = urllib2.Request(googleurl+'?'+request)\n",
    "print req\n",
    "\n",
    "print req.get_full_url()\n",
    "\n",
    "print req.get_method"
   ]
  },
  {
   "cell_type": "code",
   "execution_count": 62,
   "metadata": {
    "collapsed": false
   },
   "outputs": [
    {
     "name": "stdout",
     "output_type": "stream",
     "text": [
      "{{About|the programming language|the snake genus|Python (genus)|other uses|Python (disambiguation)}}\n",
      "{{Use dmy dates|date=August 2015}}\n",
      "{{Infobox programming language\n",
      "|name                   = Python\n",
      "|logo                   = Python logo and wordmark.svg\n",
      "|logo size              = 260px\n",
      "|paradigm               = [[multi-paradigm programming language|multi-paradigm]]: [[object-oriented programming|object-oriented]], [[imperative programming|imperative]], [[functional programming|functional]], [[procedural programming|procedural]], [[reflective programming|reflective]]\n",
      "|released               = {{Start date and age|1991|02|20|df=yes}}<ref>{{cite web|url=http://python-history.blogspot.com/2009/01/brief-timeline-of-python.html|title=The History of Python: A Brief Timeline of Python|work=[[Blogger (service)|Blogger]]|date=2009-01-20|accessdate=2016-03-20}}</ref>\n",
      "|designer               = [[Guido van Rossum]]\n",
      "|developer              = [[Python Software Foundation]]\n",
      "|latest release version = 3.5.2 / {{Start date and age|2016|06|27|df=yes}}<ref>{{cite web |url=http://blog.python.org/2016/06/python-352-and-python-345-are-now.html |title=Python 3.5.2 and Python 3.4.5 are now available |website=Python Insider |publisher=The Python Core Developers |first=Larry |last=Hastings |date=2016-06-27 |accessdate=2016-06-28}}</ref><br>2.7.12 / {{Start date and age|2016|06|28|df=yes}}<ref>{{cite web |url=http://blog.python.org/2016/06/python-2712-released.html |title=Python 2.7.12 released |website=Python Insider |publisher=The Python Core Developers |first=Benjamin |last=Peterson |date=2016-06-28 |accessdate=2016-06-28}}</ref>\n",
      "|latest preview version = 3.6.0b2 / {{Start date and age|2016|10|10}}<ref name=\"Python Release Python 3.6.0b2\">{{cite web |url=https://www.python.org/downloads/release/python-360b2/ |title=Python Release Python 3.6.0b2|publisher=Python Software Foundation|accessdate=12 October 2016}}</ref><!-- <br>2.7.9rc1 / {{Start date and age|2014|11|26|df=yes}}<ref>{{cite web |url=https://www.python.org/downloads/release/python-279rc1/ |title=Python 2.7.9 rc1 Release |publisher=Python Software Foundation |accessdate=26 November 2014}}</ref -->\n",
      "|latest preview date    = \n",
      "|typing                 = [[duck typing|duck]], [[dynamic typing|dynamic]], [[strong typing|strong]], [[gradual typing|gradual]] (as of Python 3.5)<ref>{{cite web|url=https://lwn.net/Articles/627418/|title=Type hinting for Python|publisher=LWN.net|date=24 December 2014|accessdate=5 May 2015}}</ref>\n",
      "|implementations        = [[CPython]], [[IronPython]], [[Jython]], [[MicroPython]], [[PyPy]]\n",
      "|dialects               = [[Cython]], [[RPython]], [[Stackless Python]]\n",
      "|influenced             = [[Boo (programming language)|Boo]], [[Cobra (programming language)|Cobra]], [[CoffeeScript]],<ref>{{cite web|url=http://coffeescript.org/|title=CoffeeScript borrows chained comparisons from Python}}</ref> [[D (programming language)|D]], [[F Sharp (programming language)|F#]], [[Falcon (programming language)|Falcon]], [[Genie (programming language)|Genie]],<ref>{{cite web \n",
      "|url=https://wiki.gnome.org/action/show/Projects/Genie\n",
      "|title=Genie Language - A brief guide \n",
      "|accessdate=2015-12-28}}</ref> [[Go (programming language)|Go]], [[Groovy (programming language)|Groovy]], [[JavaScript]],<ref>{{cite web\n",
      "|title = Perl and Python influences in JavaScript\n",
      "|date= 24 February 2013\n",
      "|website= www.2ality.com\n",
      "|url= http://www.2ality.com/2013/02/javascript-influences.html\n",
      "|accessdate= 15 May 2015}}</ref><ref>{{cite web\n",
      "|title = Chapter 3: The Nature of JavaScript; Influences\n",
      "|last=Rauschmayer\n",
      "|first=Axel\n",
      "|website=O'Reilly, Speaking JavaScript\n",
      "|url= http://speakingjs.com/es5/ch03.html\n",
      "|accessdate= 15 May 2015}}</ref> [[Julia (programming language)|Julia]],<ref name=Julia/> [[Nim (programming language)|Nim]], [[Ruby (programming language)|Ruby]],<ref name=\"bini\"/> [[Swift (programming language)|Swift]],<ref name=\"lattner2014\">{{cite web|url=http://nondot.org/sabre/|title=Chris Lattner's Homepage|last=Lattner|first=Chris|date=3 June 2014|accessdate=3 June 2014|publisher=Chris Lattner|quote=The Swift language is the product of tireless effort from a team of language experts, documentation gurus, compiler optimization ninjas, and an incredibly important internal dogfooding group who provided feedback to help refine and battle-test ideas. Of course, it also greatly benefited from the experiences hard-won by many other languages in the field, drawing ideas from Objective-C, Rust, Haskell, Ruby, Python, C#, CLU, and far too many others to list.}}</ref>\n",
      "|operating system       = [[Cross-platform]]\n",
      "|license                = [[Python Software Foundation License]]\n",
      "|website                = {{URL|https://www.python.org/}}\n",
      "|wikibooks              = Python Programming\n",
      "|influenced_by          = [[ABC (programming language)|ABC]],<ref name=\"faq-created\"/> [[ALGOL 68]],<ref name=\"98-interview\"/> [[C (programming language)|C]],<ref name=\"AutoNT-1\"/> [[C++]],<ref name=\"classmix\"/> [[Dylan (programming langu\n"
     ]
    }
   ],
   "source": [
    "import urllib\n",
    "keyword='Albert_Einstein'\n",
    "keyword='Python (programming language)'\n",
    "s = urllib.urlopen('http://en.wikipedia.org/w/index.php?action=raw&title='+keyword).read()\n",
    "#print s.find('Python is a widely used general-purpose')\n",
    "print s[:5000]"
   ]
  },
  {
   "cell_type": "code",
   "execution_count": null,
   "metadata": {
    "collapsed": true
   },
   "outputs": [],
   "source": [
    "import lxml.html\n",
    "from lxml.cssselect import CSSSelector\n",
    "import requests\n",
    "\n",
    "r = requests.get('https://en.wikipedia.org/wiki/Python_(programming_language)')\n",
    "# build the DOM Tree\n",
    "tree = lxml.html.fromstring(r.text)"
   ]
  }
 ],
 "metadata": {
  "anaconda-cloud": {},
  "kernelspec": {
   "display_name": "Python [conda root]",
   "language": "python",
   "name": "conda-root-py"
  },
  "language_info": {
   "codemirror_mode": {
    "name": "ipython",
    "version": 2
   },
   "file_extension": ".py",
   "mimetype": "text/x-python",
   "name": "python",
   "nbconvert_exporter": "python",
   "pygments_lexer": "ipython2",
   "version": "2.7.12"
  }
 },
 "nbformat": 4,
 "nbformat_minor": 1
}
